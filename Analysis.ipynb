{
 "cells": [
  {
   "cell_type": "markdown",
   "metadata": {},
   "source": [
    "Project Description:"
   ]
  },
  {
   "cell_type": "markdown",
   "metadata": {},
   "source": [
    "I am interested in clustering tweets in an effort to understand what topics people are currently talking about. I have gathered up to date twitter data from a variety of hashtags that I will perform a K-Means cluster analysis on. My hope is to find distinct clusters that may provide some insight into the current topics that people are tweeting about. The tweets I have gathered were based on certain hashtags that I am interested in and in areas that I am somewhat familiar with so the resulting topics will hopefully be recognizable. If I was interested in different categories of hashtags this analysis would also allow me the versatility to cluster tweet data collected from different hashtags. "
   ]
  },
  {
   "cell_type": "markdown",
   "metadata": {},
   "source": [
    "Data Collection:"
   ]
  },
  {
   "cell_type": "markdown",
   "metadata": {},
   "source": [
    "I used the tweepy package to access Twitter's API and collect all of the data for this project. I used tweepy's api.search method which returns a limited amount of tweets that match the searched query. The searches I used were hashtags and in general I tried to gather all of the tweets which contained that hashtag that occurred within the past two weeks. Because of the limitations on the API search method my analysis only includes hashtags where I was able to collect around 5,000 tweets.\n",
    "\n",
    "Note that in order to access Twitters API through tweepy you must have a Twitter account, and a Twitter developer account. The developer account can be applied for [here](https://developer.twitter.com/en/apply-for-access).\n",
    "\n",
    "After successfully creating a Twitter developer account you can access the proper keys and tokens which are required to access the Twitter API through tweepy. There are many tutorials out there that show how to go about accessing Twitter's API using tweepy."
   ]
  },
  {
   "cell_type": "markdown",
   "metadata": {},
   "source": [
    "Data Description:"
   ]
  },
  {
   "cell_type": "markdown",
   "metadata": {},
   "source": [
    "The data that I used for this project consisted mainly of the text maintained within the tweets. The process I used to clean the text was as follows. I first removed all hyperlinks, hashtags, mentions, digits, and anything that was not in the alphabet from the text (i.e. special characters or emojis). Then, I tokenized the words using ntlk's word_tokenize function. I removed all the words that were not in the defined stop words list. Finally I used nltk's WordNetLemmatizer to lemmatize the remaining words. After the text data went through this cleaning process it was ready for analysis. \n",
    "\n",
    "I also removed the hashtags from the text data and created another feature containing all hashtags in a given tweet for additional analysis.  "
   ]
  },
  {
   "cell_type": "markdown",
   "metadata": {},
   "source": [
    "Methods:\n",
    "\n",
    "For this project I am using a KMeans model to cluster the collected Twitter text data. The reason I chose to use a KMeans is simply because it is one of the only unsupervised learning methods I am currently familiar with. I am not entirely sure at how well KMeans does on text data, this is one of my first projects with clustering text."
   ]
  },
  {
   "cell_type": "markdown",
   "metadata": {},
   "source": [
    "### Begin"
   ]
  },
  {
   "cell_type": "code",
   "execution_count": 1,
   "metadata": {},
   "outputs": [],
   "source": [
    "import pandas as pd\n",
    "import numpy as np\n",
    "import re\n",
    "import matplotlib.pyplot as plt\n",
    "import seaborn as sns\n",
    "sns.set_style('whitegrid')\n",
    "from nltk import wordpunct_tokenize, word_tokenize, sent_tokenize\n",
    "from nltk.stem import WordNetLemmatizer\n",
    "from nltk.util import ngrams\n",
    "from nltk.corpus import stopwords\n",
    "from collections import Counter\n",
    "from sklearn.cluster import KMeans, MiniBatchKMeans\n",
    "from sklearn.feature_extraction.text import TfidfVectorizer\n",
    "pd.options.display.max_colwidth = 500"
   ]
  },
  {
   "cell_type": "markdown",
   "metadata": {},
   "source": [
    "Stop words were taken from the ntlk corpus with additional words added to the list that appeared frequently but did not add value to the text."
   ]
  },
  {
   "cell_type": "code",
   "execution_count": 2,
   "metadata": {},
   "outputs": [],
   "source": [
    "sw = stopwords.words('english')\n",
    "# Append rt (Retweet), rts (Retweets), u (you), amp (& character), and empty characters to the list of stop words\n",
    "sw.extend(['rt', 'rts', 'u', 'amp', ''])"
   ]
  },
  {
   "cell_type": "markdown",
   "metadata": {},
   "source": [
    "# Here I begin my analysis on tweet data gathered from the #actorslife hashtag."
   ]
  },
  {
   "cell_type": "markdown",
   "metadata": {},
   "source": [
    "### Word Count on Text"
   ]
  },
  {
   "cell_type": "code",
   "execution_count": 3,
   "metadata": {
    "scrolled": true
   },
   "outputs": [],
   "source": [
    "actorslife = pd.read_csv('actorslife_hashtag.csv')"
   ]
  },
  {
   "cell_type": "markdown",
   "metadata": {},
   "source": [
    "The data I'm using contains the date, id, and full text of a tweet. "
   ]
  },
  {
   "cell_type": "code",
   "execution_count": 4,
   "metadata": {
    "scrolled": true
   },
   "outputs": [
    {
     "name": "stdout",
     "output_type": "stream",
     "text": [
      "<class 'pandas.core.frame.DataFrame'>\n",
      "RangeIndex: 5303 entries, 0 to 5302\n",
      "Data columns (total 3 columns):\n",
      "Datetime    5303 non-null object\n",
      "Tweet Id    5303 non-null int64\n",
      "Text        5303 non-null object\n",
      "dtypes: int64(1), object(2)\n",
      "memory usage: 124.4+ KB\n"
     ]
    }
   ],
   "source": [
    "actorslife.info()"
   ]
  },
  {
   "cell_type": "code",
   "execution_count": 5,
   "metadata": {},
   "outputs": [
    {
     "data": {
      "text/html": [
       "<div>\n",
       "<style scoped>\n",
       "    .dataframe tbody tr th:only-of-type {\n",
       "        vertical-align: middle;\n",
       "    }\n",
       "\n",
       "    .dataframe tbody tr th {\n",
       "        vertical-align: top;\n",
       "    }\n",
       "\n",
       "    .dataframe thead th {\n",
       "        text-align: right;\n",
       "    }\n",
       "</style>\n",
       "<table border=\"1\" class=\"dataframe\">\n",
       "  <thead>\n",
       "    <tr style=\"text-align: right;\">\n",
       "      <th></th>\n",
       "      <th>Datetime</th>\n",
       "      <th>Tweet Id</th>\n",
       "      <th>Text</th>\n",
       "    </tr>\n",
       "  </thead>\n",
       "  <tbody>\n",
       "    <tr>\n",
       "      <td>0</td>\n",
       "      <td>2020-12-10 17:10:50</td>\n",
       "      <td>1337082356331528192</td>\n",
       "      <td>Let me book one job this year please please please 🙏🏽✨🙌🏽🥲 I mean...even I’m impressed by my range here. 🤓\\n#actorslife #asianactress https://t.co/lKzJml91mL</td>\n",
       "    </tr>\n",
       "    <tr>\n",
       "      <td>1</td>\n",
       "      <td>2020-12-10 17:10:14</td>\n",
       "      <td>1337082208012693509</td>\n",
       "      <td>BILLION STAR HOTEL by Alecs Nastoiu A touching story about a little homeless boy, learns how things are going in real life, from his mentor, Papa Rudi. CLICK HERE=&amp;gt; https://t.co/E7FQG7kUXJ #cinematographer #cinematography #dop #dp #director #actor #actress #actorslife #filmmaker https://t.co/ZEP5LRjBau</td>\n",
       "    </tr>\n",
       "    <tr>\n",
       "      <td>2</td>\n",
       "      <td>2020-12-10 17:10:11</td>\n",
       "      <td>1337082195698126853</td>\n",
       "      <td>📷 https://t.co/GQb23bDAX6 Please check out my interview with great actor/director/producer Robert Amico for Eye on Entertainment! Filmed and edited by Dr. Renah Wolzinger! ❤️ #setlife #actorslife #producer #picoftheday #photooftheday... https://t.co/gVSHMHUBT1</td>\n",
       "    </tr>\n",
       "  </tbody>\n",
       "</table>\n",
       "</div>"
      ],
      "text/plain": [
       "              Datetime             Tweet Id  \\\n",
       "0  2020-12-10 17:10:50  1337082356331528192   \n",
       "1  2020-12-10 17:10:14  1337082208012693509   \n",
       "2  2020-12-10 17:10:11  1337082195698126853   \n",
       "\n",
       "                                                                                                                                                                                                                                                                                                                 Text  \n",
       "0                                                                                                                                                        Let me book one job this year please please please 🙏🏽✨🙌🏽🥲 I mean...even I’m impressed by my range here. 🤓\\n#actorslife #asianactress https://t.co/lKzJml91mL  \n",
       "1  BILLION STAR HOTEL by Alecs Nastoiu A touching story about a little homeless boy, learns how things are going in real life, from his mentor, Papa Rudi. CLICK HERE=&gt; https://t.co/E7FQG7kUXJ #cinematographer #cinematography #dop #dp #director #actor #actress #actorslife #filmmaker https://t.co/ZEP5LRjBau  \n",
       "2                                                📷 https://t.co/GQb23bDAX6 Please check out my interview with great actor/director/producer Robert Amico for Eye on Entertainment! Filmed and edited by Dr. Renah Wolzinger! ❤️ #setlife #actorslife #producer #picoftheday #photooftheday... https://t.co/gVSHMHUBT1  "
      ]
     },
     "execution_count": 5,
     "metadata": {},
     "output_type": "execute_result"
    }
   ],
   "source": [
    "actorslife.head(3)"
   ]
  },
  {
   "cell_type": "markdown",
   "metadata": {},
   "source": [
    "This function finds and removes strings which begin with a given substring from the text. It is used to remove hyperlinks, hashtags, and mentions."
   ]
  },
  {
   "cell_type": "code",
   "execution_count": 6,
   "metadata": {},
   "outputs": [],
   "source": [
    "def removeSubstring(substringList, string):\n",
    "    stringList = re.split(' |\\n', string)\n",
    "    for substring in substringList:\n",
    "        result = [i for i in stringList if substring in i]\n",
    "        for string in result:\n",
    "            stringList.remove(string)\n",
    "    return \" \".join(stringList)"
   ]
  },
  {
   "cell_type": "markdown",
   "metadata": {},
   "source": [
    "This Function processes and cleans text from a tweet. It takes the text as input then does the following: lowercases, lemmatizes, removes hyperlinks, removes hashtags, removes mentions, removes digits, and removes any stop words found in the text."
   ]
  },
  {
   "cell_type": "code",
   "execution_count": 7,
   "metadata": {},
   "outputs": [],
   "source": [
    "def wc_text_processor(x):\n",
    "    wn = WordNetLemmatizer()\n",
    "    x = x.lower()\n",
    "    # remove all https://hyperlinks, #hashtags, and @mentions from the text\n",
    "    x = removeSubstring(['http://', 'https://', '#', '@'], x)\n",
    "    # remove all digits from the text\n",
    "    x = re.sub('\\w*\\d\\w*','', x)\n",
    "    tokens = wordpunct_tokenize(x)\n",
    "    # remove words/characters that are not alphanumeric and words/characters that are in the stop words list\n",
    "    tokens = [tok for tok in tokens if tok.isalnum()]\n",
    "    tokens = [tok for tok in tokens if tok not in sw]\n",
    "    tokens = [wn.lemmatize(tok) for tok in tokens]\n",
    "    return(tokens)"
   ]
  },
  {
   "cell_type": "code",
   "execution_count": 8,
   "metadata": {},
   "outputs": [],
   "source": [
    "actorslife_text = actorslife['Text'].apply(wc_text_processor)"
   ]
  },
  {
   "cell_type": "markdown",
   "metadata": {},
   "source": [
    "After processing the text we have a clean list of words ready to be used for analysis."
   ]
  },
  {
   "cell_type": "code",
   "execution_count": 9,
   "metadata": {
    "scrolled": true
   },
   "outputs": [
    {
     "data": {
      "text/plain": [
       "0                                                                  [let, book, one, job, year, please, please, please, mean, even, impressed, range]\n",
       "1    [billion, star, hotel, alecs, nastoiu, touching, story, little, homeless, boy, learns, thing, going, real, life, mentor, papa, rudi, click, gt]\n",
       "2              [please, check, interview, great, actor, director, producer, robert, amico, eye, entertainment, filmed, edited, dr, renah, wolzinger]\n",
       "Name: Text, dtype: object"
      ]
     },
     "execution_count": 9,
     "metadata": {},
     "output_type": "execute_result"
    }
   ],
   "source": [
    "actorslife_text.head(3)"
   ]
  },
  {
   "cell_type": "markdown",
   "metadata": {},
   "source": [
    "Now that we have the text cleaned and ready we can do a simple word count. The following function will add all the words into one big list, then use the collections.Counter function to count all words in the text. Afterwords it plots a simple graph of the first few words ordered by frequency. "
   ]
  },
  {
   "cell_type": "code",
   "execution_count": 156,
   "metadata": {},
   "outputs": [],
   "source": [
    "# Counts the words in the text after it has been processed \n",
    "def word_count(text):\n",
    "    all_text = []\n",
    "    for words in text:\n",
    "        all_text += words\n",
    "    c = Counter(all_text)\n",
    "    \n",
    "    wc = pd.DataFrame(c.items(), columns=['word','count'])\n",
    "    wc.sort_values(by='count',ascending=False).head(15)\n",
    "    for_plot = wc.sort_values(by='count',ascending=False).head(15)\n",
    "    plt.figure(figsize=(12,5))\n",
    "    sns.barplot(x='word', y='count',data=for_plot, palette='cividis')\n",
    "    return wc.sort_values(by='count',ascending=False).head(15)"
   ]
  },
  {
   "cell_type": "code",
   "execution_count": 11,
   "metadata": {
    "scrolled": true
   },
   "outputs": [
    {
     "data": {
      "image/png": "[encoded data removed]",
      "text/plain": [
       "<Figure size 864x360 with 1 Axes>"
      ]
     },
     "metadata": {
      "needs_background": "light"
     },
     "output_type": "display_data"
    }
   ],
   "source": [
    "word_count(actorslife_text)"
   ]
  },
  {
   "cell_type": "markdown",
   "metadata": {},
   "source": [
    "Here we can see that the top five highest frequency words are actor, new, time, film, and day. These words do make sense when we recognize that the text data is coming from the #actorslife hashtag. "
   ]
  },
  {
   "cell_type": "markdown",
   "metadata": {},
   "source": [
    "Another thing I've done on top of word count was to also count bigrams and trigrams within the text. This applies the ngrams function from nltk and then uses the same collections.Counter function to count the bigrams/trigrams."
   ]
  },
  {
   "cell_type": "code",
   "execution_count": 12,
   "metadata": {},
   "outputs": [],
   "source": [
    "# Counts the bigrams in the text after it has been processed\n",
    "def word_count_bigrams(text):\n",
    "    all_text = []\n",
    "    for words in text:\n",
    "        all_text += words\n",
    "    bigrams = ngrams(all_text, 2)\n",
    "    c = Counter(bigrams)\n",
    "    bic = pd.DataFrame(c.items(), columns=['word','count'])\n",
    "    return bic.sort_values(by='count',ascending=False).head(10)"
   ]
  },
  {
   "cell_type": "code",
   "execution_count": 13,
   "metadata": {},
   "outputs": [],
   "source": [
    "# Counts the trigrams in the text after it has been processed\n",
    "def word_count_trigrams(text):\n",
    "    all_text = []\n",
    "    for words in text:\n",
    "        all_text += words\n",
    "    trigrams = ngrams(all_text, 3)\n",
    "    c = Counter(trigrams)\n",
    "    bic = pd.DataFrame(c.items(), columns=['word','count'])\n",
    "    return bic.sort_values(by='count',ascending=False).head(10)"
   ]
  },
  {
   "cell_type": "code",
   "execution_count": 14,
   "metadata": {
    "scrolled": false
   },
   "outputs": [
    {
     "data": {
      "text/html": [
       "<div>\n",
       "<style scoped>\n",
       "    .dataframe tbody tr th:only-of-type {\n",
       "        vertical-align: middle;\n",
       "    }\n",
       "\n",
       "    .dataframe tbody tr th {\n",
       "        vertical-align: top;\n",
       "    }\n",
       "\n",
       "    .dataframe thead th {\n",
       "        text-align: right;\n",
       "    }\n",
       "</style>\n",
       "<table border=\"1\" class=\"dataframe\">\n",
       "  <thead>\n",
       "    <tr style=\"text-align: right;\">\n",
       "      <th></th>\n",
       "      <th>word</th>\n",
       "      <th>count</th>\n",
       "    </tr>\n",
       "  </thead>\n",
       "  <tbody>\n",
       "    <tr>\n",
       "      <td>2195</td>\n",
       "      <td>(session, look)</td>\n",
       "      <td>207</td>\n",
       "    </tr>\n",
       "    <tr>\n",
       "      <td>2194</td>\n",
       "      <td>(photo, session)</td>\n",
       "      <td>206</td>\n",
       "    </tr>\n",
       "    <tr>\n",
       "      <td>2193</td>\n",
       "      <td>(headshot, photo)</td>\n",
       "      <td>206</td>\n",
       "    </tr>\n",
       "    <tr>\n",
       "      <td>4336</td>\n",
       "      <td>(look, headshot)</td>\n",
       "      <td>135</td>\n",
       "    </tr>\n",
       "    <tr>\n",
       "      <td>1768</td>\n",
       "      <td>(checked, website)</td>\n",
       "      <td>104</td>\n",
       "    </tr>\n",
       "    <tr>\n",
       "      <td>148</td>\n",
       "      <td>(self, tape)</td>\n",
       "      <td>100</td>\n",
       "    </tr>\n",
       "    <tr>\n",
       "      <td>1041</td>\n",
       "      <td>(checked, imdb)</td>\n",
       "      <td>77</td>\n",
       "    </tr>\n",
       "    <tr>\n",
       "      <td>1042</td>\n",
       "      <td>(imdb, page)</td>\n",
       "      <td>74</td>\n",
       "    </tr>\n",
       "    <tr>\n",
       "      <td>419</td>\n",
       "      <td>(short, film)</td>\n",
       "      <td>60</td>\n",
       "    </tr>\n",
       "    <tr>\n",
       "      <td>1516</td>\n",
       "      <td>(feature, film)</td>\n",
       "      <td>52</td>\n",
       "    </tr>\n",
       "  </tbody>\n",
       "</table>\n",
       "</div>"
      ],
      "text/plain": [
       "                    word  count\n",
       "2195     (session, look)    207\n",
       "2194    (photo, session)    206\n",
       "2193   (headshot, photo)    206\n",
       "4336    (look, headshot)    135\n",
       "1768  (checked, website)    104\n",
       "148         (self, tape)    100\n",
       "1041     (checked, imdb)     77\n",
       "1042        (imdb, page)     74\n",
       "419        (short, film)     60\n",
       "1516     (feature, film)     52"
      ]
     },
     "execution_count": 14,
     "metadata": {},
     "output_type": "execute_result"
    }
   ],
   "source": [
    "word_count_bigrams(actorslife_text)"
   ]
  },
  {
   "cell_type": "code",
   "execution_count": 15,
   "metadata": {
    "scrolled": true
   },
   "outputs": [
    {
     "data": {
      "text/html": [
       "<div>\n",
       "<style scoped>\n",
       "    .dataframe tbody tr th:only-of-type {\n",
       "        vertical-align: middle;\n",
       "    }\n",
       "\n",
       "    .dataframe tbody tr th {\n",
       "        vertical-align: top;\n",
       "    }\n",
       "\n",
       "    .dataframe thead th {\n",
       "        text-align: right;\n",
       "    }\n",
       "</style>\n",
       "<table border=\"1\" class=\"dataframe\">\n",
       "  <thead>\n",
       "    <tr style=\"text-align: right;\">\n",
       "      <th></th>\n",
       "      <th>word</th>\n",
       "      <th>count</th>\n",
       "    </tr>\n",
       "  </thead>\n",
       "  <tbody>\n",
       "    <tr>\n",
       "      <td>2384</td>\n",
       "      <td>(photo, session, look)</td>\n",
       "      <td>206</td>\n",
       "    </tr>\n",
       "    <tr>\n",
       "      <td>2383</td>\n",
       "      <td>(headshot, photo, session)</td>\n",
       "      <td>206</td>\n",
       "    </tr>\n",
       "    <tr>\n",
       "      <td>4761</td>\n",
       "      <td>(look, headshot, photo)</td>\n",
       "      <td>135</td>\n",
       "    </tr>\n",
       "    <tr>\n",
       "      <td>4760</td>\n",
       "      <td>(session, look, headshot)</td>\n",
       "      <td>135</td>\n",
       "    </tr>\n",
       "    <tr>\n",
       "      <td>1090</td>\n",
       "      <td>(checked, imdb, page)</td>\n",
       "      <td>73</td>\n",
       "    </tr>\n",
       "    <tr>\n",
       "      <td>2326</td>\n",
       "      <td>(checked, website, checked)</td>\n",
       "      <td>45</td>\n",
       "    </tr>\n",
       "    <tr>\n",
       "      <td>14427</td>\n",
       "      <td>(clothing, unlimited, believe)</td>\n",
       "      <td>39</td>\n",
       "    </tr>\n",
       "    <tr>\n",
       "      <td>14426</td>\n",
       "      <td>(heart, clothing, unlimited)</td>\n",
       "      <td>39</td>\n",
       "    </tr>\n",
       "    <tr>\n",
       "      <td>14425</td>\n",
       "      <td>(thespian, heart, clothing)</td>\n",
       "      <td>39</td>\n",
       "    </tr>\n",
       "    <tr>\n",
       "      <td>451</td>\n",
       "      <td>(la, lake, view)</td>\n",
       "      <td>37</td>\n",
       "    </tr>\n",
       "  </tbody>\n",
       "</table>\n",
       "</div>"
      ],
      "text/plain": [
       "                                 word  count\n",
       "2384           (photo, session, look)    206\n",
       "2383       (headshot, photo, session)    206\n",
       "4761          (look, headshot, photo)    135\n",
       "4760        (session, look, headshot)    135\n",
       "1090            (checked, imdb, page)     73\n",
       "2326      (checked, website, checked)     45\n",
       "14427  (clothing, unlimited, believe)     39\n",
       "14426    (heart, clothing, unlimited)     39\n",
       "14425     (thespian, heart, clothing)     39\n",
       "451                  (la, lake, view)     37"
      ]
     },
     "execution_count": 15,
     "metadata": {},
     "output_type": "execute_result"
    }
   ],
   "source": [
    "word_count_trigrams(actorslife_text)"
   ]
  },
  {
   "cell_type": "markdown",
   "metadata": {},
   "source": [
    "We can see from these results that some of the words are more commonly used together such as session and look, photo and session, headshot and photo, look and headshot, checked and website. This could show that when people are tweeting and they mention some kind of session they are often asking people to also look at the results from the session. Also we can see that these sessions are usually related to photos or headshots. It appears from these bigrams and trigrams that when people are tweeting in the #actorslife hashtag and they are using words like session, they are also referring to a photo or a headshot and inviting others to look at their content. "
   ]
  },
  {
   "cell_type": "markdown",
   "metadata": {},
   "source": [
    "### Word Count on Hashtags"
   ]
  },
  {
   "cell_type": "markdown",
   "metadata": {},
   "source": [
    "Another feature we can look at from this data are the hashtags themselves. The following function takes the original text and returns a list of all the hashtags used within that text. I can then use this list to create a separate feature to analyze. "
   ]
  },
  {
   "cell_type": "code",
   "execution_count": 16,
   "metadata": {},
   "outputs": [],
   "source": [
    "# Return a list of hashtags that are contained in the text \n",
    "def getHashtags(string):\n",
    "    string = string.lower()\n",
    "    hashtagList = []\n",
    "    stringList = re.split(' |\\n', string)\n",
    "    result = [i for i in stringList if '#' in i]\n",
    "    for string in result:\n",
    "        hashtagList.append(string)   \n",
    "    return hashtagList"
   ]
  },
  {
   "cell_type": "code",
   "execution_count": 17,
   "metadata": {},
   "outputs": [],
   "source": [
    "actorslife['Hashtags'] = actorslife['Text'].apply(getHashtags)"
   ]
  },
  {
   "cell_type": "code",
   "execution_count": 59,
   "metadata": {
    "scrolled": true
   },
   "outputs": [
    {
     "data": {
      "text/plain": [
       "0                                                                            [#asianactress]\n",
       "1    [#cinematographer, #cinematography, #dop, #dp, #director, #actor, #actress, #filmmaker]\n",
       "Name: Hashtags, dtype: object"
      ]
     },
     "execution_count": 59,
     "metadata": {},
     "output_type": "execute_result"
    }
   ],
   "source": [
    "actorslife['Hashtags'].head(2)"
   ]
  },
  {
   "cell_type": "markdown",
   "metadata": {},
   "source": [
    "Because we are using tweets that are results of the #actorslife search we can assume all of our tweets have the #actorslife hashtag in them, so we can take it out since it won't be beneficial in our analysis. "
   ]
  },
  {
   "cell_type": "code",
   "execution_count": 21,
   "metadata": {
    "scrolled": false
   },
   "outputs": [
    {
     "data": {
      "text/plain": [
       "0                                                                            [#asianactress]\n",
       "1    [#cinematographer, #cinematography, #dop, #dp, #director, #actor, #actress, #filmmaker]\n",
       "2                                     [#setlife, #producer, #picoftheday, #photooftheday...]\n",
       "Name: Hashtags, dtype: object"
      ]
     },
     "execution_count": 21,
     "metadata": {},
     "output_type": "execute_result"
    }
   ],
   "source": [
    "actorslife['Hashtags'].apply(lambda x : x.remove('#actorslife') if ('#actorslife' in x) else x).head(3)"
   ]
  },
  {
   "cell_type": "code",
   "execution_count": 60,
   "metadata": {},
   "outputs": [
    {
     "data": {
      "text/plain": [
       "0                                                                            [#asianactress]\n",
       "1    [#cinematographer, #cinematography, #dop, #dp, #director, #actor, #actress, #filmmaker]\n",
       "Name: Hashtags, dtype: object"
      ]
     },
     "execution_count": 60,
     "metadata": {},
     "output_type": "execute_result"
    }
   ],
   "source": [
    "actorslife['Hashtags'].head(2)"
   ]
  },
  {
   "cell_type": "markdown",
   "metadata": {},
   "source": [
    "Now we can perform a word count on the hashtags to find out which hashtags are most frequently used with the #actorslife hashtag."
   ]
  },
  {
   "cell_type": "code",
   "execution_count": 22,
   "metadata": {
    "scrolled": false
   },
   "outputs": [
    {
     "data": {
      "image/png": "[encoded data removed]",
      "text/plain": [
       "<Figure size 864x360 with 1 Axes>"
      ]
     },
     "metadata": {
      "needs_background": "light"
     },
     "output_type": "display_data"
    }
   ],
   "source": [
    "word_count(actorslife['Hashtags'])"
   ]
  },
  {
   "cell_type": "markdown",
   "metadata": {},
   "source": [
    "A majority of people using the #actorslife hashtag also use the #actor, #acting, and #actors hashtags. This is also sensible considering that actor, actors, and acting are all words which can be considered closely realted to actorslife. Knowing which hashtags are used within a tweet along with the word count could possibly be used to gain greater insight into what the topic of the text is. "
   ]
  },
  {
   "cell_type": "markdown",
   "metadata": {},
   "source": [
    "### KMeans on Text"
   ]
  },
  {
   "cell_type": "markdown",
   "metadata": {},
   "source": [
    "The text needs to be in a slightly different form than what it was for the earlier word count. This function processes the text in a way that is similar to preprocessing for word count, but in the end it returns on string value containing the resultling words instead of a list of resulting words. "
   ]
  },
  {
   "cell_type": "code",
   "execution_count": 88,
   "metadata": {},
   "outputs": [],
   "source": [
    "# Function for processing text before vectorization\n",
    "def tfidf_text_processor(x):\n",
    "    wn = WordNetLemmatizer()\n",
    "    x = x.lower()\n",
    "    # remove all https://hyperlinks, #hashtags, and @mentions from the text\n",
    "    x = removeSubstring(['http://', 'https://', '#', '@'], x)\n",
    "    # remove all digits from the text\n",
    "    x = re.sub('\\w*\\d\\w*','', x)\n",
    "    tokens = wordpunct_tokenize(x)\n",
    "    # remove words/characters that are not alphanumeric and words/characters that are in the stop words list\n",
    "    tokens = [tok for tok in tokens if tok.isalnum()]\n",
    "    tokens = [tok for tok in tokens if tok not in sw]\n",
    "    tokens = [wn.lemmatize(tok) for tok in tokens]\n",
    "    return ' '.join(tokens)"
   ]
  },
  {
   "cell_type": "code",
   "execution_count": 75,
   "metadata": {
    "scrolled": true
   },
   "outputs": [
    {
     "data": {
      "text/html": [
       "<div>\n",
       "<style scoped>\n",
       "    .dataframe tbody tr th:only-of-type {\n",
       "        vertical-align: middle;\n",
       "    }\n",
       "\n",
       "    .dataframe tbody tr th {\n",
       "        vertical-align: top;\n",
       "    }\n",
       "\n",
       "    .dataframe thead th {\n",
       "        text-align: right;\n",
       "    }\n",
       "</style>\n",
       "<table border=\"1\" class=\"dataframe\">\n",
       "  <thead>\n",
       "    <tr style=\"text-align: right;\">\n",
       "      <th></th>\n",
       "      <th>Datetime</th>\n",
       "      <th>Tweet Id</th>\n",
       "      <th>Text</th>\n",
       "      <th>Hashtags</th>\n",
       "      <th>CleanHashtags</th>\n",
       "    </tr>\n",
       "  </thead>\n",
       "  <tbody>\n",
       "    <tr>\n",
       "      <td>0</td>\n",
       "      <td>2020-12-10 17:10:50</td>\n",
       "      <td>1337082356331528192</td>\n",
       "      <td>Let me book one job this year please please please 🙏🏽✨🙌🏽🥲 I mean...even I’m impressed by my range here. 🤓\\n#actorslife #asianactress https://t.co/lKzJml91mL</td>\n",
       "      <td>[#asianactress]</td>\n",
       "      <td>#asianactress</td>\n",
       "    </tr>\n",
       "    <tr>\n",
       "      <td>1</td>\n",
       "      <td>2020-12-10 17:10:14</td>\n",
       "      <td>1337082208012693509</td>\n",
       "      <td>BILLION STAR HOTEL by Alecs Nastoiu A touching story about a little homeless boy, learns how things are going in real life, from his mentor, Papa Rudi. CLICK HERE=&amp;gt; https://t.co/E7FQG7kUXJ #cinematographer #cinematography #dop #dp #director #actor #actress #actorslife #filmmaker https://t.co/ZEP5LRjBau</td>\n",
       "      <td>[#cinematographer, #cinematography, #dop, #dp, #director, #actor, #actress, #filmmaker]</td>\n",
       "      <td>#cinematographer #cinematography #dop #dp #director #actor #actress #filmmaker</td>\n",
       "    </tr>\n",
       "    <tr>\n",
       "      <td>2</td>\n",
       "      <td>2020-12-10 17:10:11</td>\n",
       "      <td>1337082195698126853</td>\n",
       "      <td>📷 https://t.co/GQb23bDAX6 Please check out my interview with great actor/director/producer Robert Amico for Eye on Entertainment! Filmed and edited by Dr. Renah Wolzinger! ❤️ #setlife #actorslife #producer #picoftheday #photooftheday... https://t.co/gVSHMHUBT1</td>\n",
       "      <td>[#setlife, #producer, #picoftheday, #photooftheday...]</td>\n",
       "      <td>#setlife #producer #picoftheday #photooftheday...</td>\n",
       "    </tr>\n",
       "  </tbody>\n",
       "</table>\n",
       "</div>"
      ],
      "text/plain": [
       "              Datetime             Tweet Id  \\\n",
       "0  2020-12-10 17:10:50  1337082356331528192   \n",
       "1  2020-12-10 17:10:14  1337082208012693509   \n",
       "2  2020-12-10 17:10:11  1337082195698126853   \n",
       "\n",
       "                                                                                                                                                                                                                                                                                                                 Text  \\\n",
       "0                                                                                                                                                        Let me book one job this year please please please 🙏🏽✨🙌🏽🥲 I mean...even I’m impressed by my range here. 🤓\\n#actorslife #asianactress https://t.co/lKzJml91mL   \n",
       "1  BILLION STAR HOTEL by Alecs Nastoiu A touching story about a little homeless boy, learns how things are going in real life, from his mentor, Papa Rudi. CLICK HERE=&gt; https://t.co/E7FQG7kUXJ #cinematographer #cinematography #dop #dp #director #actor #actress #actorslife #filmmaker https://t.co/ZEP5LRjBau   \n",
       "2                                                📷 https://t.co/GQb23bDAX6 Please check out my interview with great actor/director/producer Robert Amico for Eye on Entertainment! Filmed and edited by Dr. Renah Wolzinger! ❤️ #setlife #actorslife #producer #picoftheday #photooftheday... https://t.co/gVSHMHUBT1   \n",
       "\n",
       "                                                                                  Hashtags  \\\n",
       "0                                                                          [#asianactress]   \n",
       "1  [#cinematographer, #cinematography, #dop, #dp, #director, #actor, #actress, #filmmaker]   \n",
       "2                                   [#setlife, #producer, #picoftheday, #photooftheday...]   \n",
       "\n",
       "                                                                    CleanHashtags  \n",
       "0                                                                   #asianactress  \n",
       "1  #cinematographer #cinematography #dop #dp #director #actor #actress #filmmaker  \n",
       "2                               #setlife #producer #picoftheday #photooftheday...  "
      ]
     },
     "execution_count": 75,
     "metadata": {},
     "output_type": "execute_result"
    }
   ],
   "source": [
    "actorslife.head(3)"
   ]
  },
  {
   "cell_type": "code",
   "execution_count": 89,
   "metadata": {},
   "outputs": [],
   "source": [
    "actorslife_text = actorslife['Text'].apply(tfidf_text_processor)"
   ]
  },
  {
   "cell_type": "code",
   "execution_count": 90,
   "metadata": {
    "scrolled": true
   },
   "outputs": [
    {
     "data": {
      "text/plain": [
       "0                                                          let book one job year please please please mean even impressed range\n",
       "1    billion star hotel alecs nastoiu touching story little homeless boy learns thing going real life mentor papa rudi click gt\n",
       "2          please check interview great actor director producer robert amico eye entertainment filmed edited dr renah wolzinger\n",
       "Name: Text, dtype: object"
      ]
     },
     "execution_count": 90,
     "metadata": {},
     "output_type": "execute_result"
    }
   ],
   "source": [
    "actorslife_text.head(3)"
   ]
  },
  {
   "cell_type": "markdown",
   "metadata": {},
   "source": [
    "Now we set up our TFIDF Vectorizer and call the fit_transform method on our data. This transformation converts the text into a vector of numerical values which can now be used to fit a KMeans model. "
   ]
  },
  {
   "cell_type": "code",
   "execution_count": 91,
   "metadata": {},
   "outputs": [],
   "source": [
    "tf_actorslife = TfidfVectorizer()"
   ]
  },
  {
   "cell_type": "code",
   "execution_count": 92,
   "metadata": {},
   "outputs": [],
   "source": [
    "X_actorslife = tf_actorslife.fit_transform(actorslife_text)"
   ]
  },
  {
   "cell_type": "code",
   "execution_count": 93,
   "metadata": {
    "scrolled": true
   },
   "outputs": [
    {
     "data": {
      "text/html": [
       "<div>\n",
       "<style scoped>\n",
       "    .dataframe tbody tr th:only-of-type {\n",
       "        vertical-align: middle;\n",
       "    }\n",
       "\n",
       "    .dataframe tbody tr th {\n",
       "        vertical-align: top;\n",
       "    }\n",
       "\n",
       "    .dataframe thead th {\n",
       "        text-align: right;\n",
       "    }\n",
       "</style>\n",
       "<table border=\"1\" class=\"dataframe\">\n",
       "  <thead>\n",
       "    <tr style=\"text-align: right;\">\n",
       "      <th></th>\n",
       "      <th>aaand</th>\n",
       "      <th>aamir</th>\n",
       "      <th>aapke</th>\n",
       "      <th>aba</th>\n",
       "      <th>abba</th>\n",
       "      <th>abbey</th>\n",
       "      <th>abc</th>\n",
       "      <th>abduction</th>\n",
       "      <th>abigail</th>\n",
       "      <th>ability</th>\n",
       "      <th>...</th>\n",
       "      <th>𝙁𝙚𝙡𝙩</th>\n",
       "      <th>𝙘𝙪𝙩𝙚</th>\n",
       "      <th>𝙙𝙚𝙡𝙚𝙩𝙚</th>\n",
       "      <th>𝙛𝙤𝙧</th>\n",
       "      <th>𝙡𝙖𝙩𝙚𝙧</th>\n",
       "      <th>𝙢𝙞𝙜𝙝𝙩</th>\n",
       "      <th>𝙧𝙚𝙖𝙙𝙮</th>\n",
       "      <th>𝙩𝙝𝙚</th>\n",
       "      <th>𝙬𝙚𝙚𝙠</th>\n",
       "      <th>𝙮𝙤𝙪</th>\n",
       "    </tr>\n",
       "  </thead>\n",
       "  <tbody>\n",
       "    <tr>\n",
       "      <td>0</td>\n",
       "      <td>0.0</td>\n",
       "      <td>0.0</td>\n",
       "      <td>0.0</td>\n",
       "      <td>0.0</td>\n",
       "      <td>0.0</td>\n",
       "      <td>0.0</td>\n",
       "      <td>0.0</td>\n",
       "      <td>0.0</td>\n",
       "      <td>0.0</td>\n",
       "      <td>0.0</td>\n",
       "      <td>...</td>\n",
       "      <td>0.0</td>\n",
       "      <td>0.0</td>\n",
       "      <td>0.0</td>\n",
       "      <td>0.0</td>\n",
       "      <td>0.0</td>\n",
       "      <td>0.0</td>\n",
       "      <td>0.0</td>\n",
       "      <td>0.0</td>\n",
       "      <td>0.0</td>\n",
       "      <td>0.0</td>\n",
       "    </tr>\n",
       "    <tr>\n",
       "      <td>1</td>\n",
       "      <td>0.0</td>\n",
       "      <td>0.0</td>\n",
       "      <td>0.0</td>\n",
       "      <td>0.0</td>\n",
       "      <td>0.0</td>\n",
       "      <td>0.0</td>\n",
       "      <td>0.0</td>\n",
       "      <td>0.0</td>\n",
       "      <td>0.0</td>\n",
       "      <td>0.0</td>\n",
       "      <td>...</td>\n",
       "      <td>0.0</td>\n",
       "      <td>0.0</td>\n",
       "      <td>0.0</td>\n",
       "      <td>0.0</td>\n",
       "      <td>0.0</td>\n",
       "      <td>0.0</td>\n",
       "      <td>0.0</td>\n",
       "      <td>0.0</td>\n",
       "      <td>0.0</td>\n",
       "      <td>0.0</td>\n",
       "    </tr>\n",
       "    <tr>\n",
       "      <td>2</td>\n",
       "      <td>0.0</td>\n",
       "      <td>0.0</td>\n",
       "      <td>0.0</td>\n",
       "      <td>0.0</td>\n",
       "      <td>0.0</td>\n",
       "      <td>0.0</td>\n",
       "      <td>0.0</td>\n",
       "      <td>0.0</td>\n",
       "      <td>0.0</td>\n",
       "      <td>0.0</td>\n",
       "      <td>...</td>\n",
       "      <td>0.0</td>\n",
       "      <td>0.0</td>\n",
       "      <td>0.0</td>\n",
       "      <td>0.0</td>\n",
       "      <td>0.0</td>\n",
       "      <td>0.0</td>\n",
       "      <td>0.0</td>\n",
       "      <td>0.0</td>\n",
       "      <td>0.0</td>\n",
       "      <td>0.0</td>\n",
       "    </tr>\n",
       "  </tbody>\n",
       "</table>\n",
       "<p>3 rows × 5906 columns</p>\n",
       "</div>"
      ],
      "text/plain": [
       "   aaand  aamir  aapke  aba  abba  abbey  abc  abduction  abigail  ability  \\\n",
       "0    0.0    0.0    0.0  0.0   0.0    0.0  0.0        0.0      0.0      0.0   \n",
       "1    0.0    0.0    0.0  0.0   0.0    0.0  0.0        0.0      0.0      0.0   \n",
       "2    0.0    0.0    0.0  0.0   0.0    0.0  0.0        0.0      0.0      0.0   \n",
       "\n",
       "   ...  𝙁𝙚𝙡𝙩  𝙘𝙪𝙩𝙚  𝙙𝙚𝙡𝙚𝙩𝙚  𝙛𝙤𝙧  𝙡𝙖𝙩𝙚𝙧  𝙢𝙞𝙜𝙝𝙩  𝙧𝙚𝙖𝙙𝙮  𝙩𝙝𝙚  𝙬𝙚𝙚𝙠  𝙮𝙤𝙪  \n",
       "0  ...   0.0   0.0     0.0  0.0    0.0    0.0    0.0  0.0   0.0  0.0  \n",
       "1  ...   0.0   0.0     0.0  0.0    0.0    0.0    0.0  0.0   0.0  0.0  \n",
       "2  ...   0.0   0.0     0.0  0.0    0.0    0.0    0.0  0.0   0.0  0.0  \n",
       "\n",
       "[3 rows x 5906 columns]"
      ]
     },
     "execution_count": 93,
     "metadata": {},
     "output_type": "execute_result"
    }
   ],
   "source": [
    "pd.DataFrame(X_actorslife.toarray(), columns=tf_actorslife.get_feature_names()).head(3)"
   ]
  },
  {
   "cell_type": "markdown",
   "metadata": {},
   "source": [
    "Using this data frame we can try to decide on a number of clusters k for our KMeans model. I am looking at the difference between within cluster sums of squares for a range of k values."
   ]
  },
  {
   "cell_type": "code",
   "execution_count": 94,
   "metadata": {},
   "outputs": [],
   "source": [
    "def plot_wcss(X):\n",
    "    wcss = []\n",
    "    for k in range(5,51,5):\n",
    "        kmeans = KMeans(n_clusters=k)\n",
    "        kmeans.fit(X)\n",
    "        wcss.append(kmeans.inertia_)\n",
    "    plt.plot(np.arange(5,51,5),wcss,marker=\"o\")\n",
    "    plt.xlabel('Number of Clusters, K')\n",
    "    plt.ylabel('WCSS')"
   ]
  },
  {
   "cell_type": "code",
   "execution_count": 95,
   "metadata": {
    "scrolled": true
   },
   "outputs": [
    {
     "data": {
      "image/png": "[encoded data removed]",
      "text/plain": [
       "<Figure size 432x288 with 1 Axes>"
      ]
     },
     "metadata": {
      "needs_background": "light"
     },
     "output_type": "display_data"
    }
   ],
   "source": [
    "plot_wcss(X_actorslife)"
   ]
  },
  {
   "cell_type": "markdown",
   "metadata": {},
   "source": [
    "It looks like the variability between clusters is consistently large, but between 20 and 25 clusters it shrinks and so that could be a good area to choose. Also I'm not sure how well this data can cluster so to keep the analysis simple I will stick with a smaller amount of clusters."
   ]
  },
  {
   "cell_type": "code",
   "execution_count": 96,
   "metadata": {},
   "outputs": [],
   "source": [
    "# Fit kmeans on the data, takes k clusters, X data that has been fit and transformed, and tf the models TfidfVectorizer\n",
    "def fit_kmeans(k, X, tf):\n",
    "    kmeans = MiniBatchKMeans(k)\n",
    "    kmeans.fit(X)\n",
    "    labs = kmeans.predict(X)\n",
    "    order_centroids = kmeans.cluster_centers_.argsort()[:, ::-1]\n",
    "    terms = tf.get_feature_names()\n",
    "    for i in range(k):\n",
    "        print(\"Cluster %d:\" % i, end='')\n",
    "        for ind in order_centroids[i, :10]:\n",
    "            print(' %s' % terms[ind], end='')\n",
    "        print()"
   ]
  },
  {
   "cell_type": "code",
   "execution_count": 99,
   "metadata": {
    "scrolled": true
   },
   "outputs": [
    {
     "name": "stdout",
     "output_type": "stream",
     "text": [
      "Cluster 0: actor casting reel great york call unlimited clothing thespian believe\n",
      "Cluster 1: record hear animation thing demo uplifting appreciated simplest one told\n",
      "Cluster 2: checked page imdb manning conservatory clements jensen lorrel dreisbach schreiber\n",
      "Cluster 3: present night purpose live let future ig career talking past\n",
      "Cluster 4: checked website channel play 𝙮𝙤𝙪 finished fincher find finding fine\n",
      "Cluster 5: day film one new get year acting audition week today\n",
      "Cluster 6: lake hilltop isabella kern getaway kernville sequoia outdoor river quiet\n",
      "Cluster 7: life working labeled assumption stereo real promise type gone ya\n",
      "Cluster 8: love biopic thanks really craft picture much working shit like\n",
      "Cluster 9: headshot session photo look current new favourite sharon drain one\n",
      "Cluster 10: got perfect better issue new page little signed copy available\n",
      "Cluster 11: show chat ticket interview virtual lovely grateful sunday michelle dorsey\n",
      "Cluster 12: never feel someone say sometimes yet avoided disturb temporary get\n",
      "Cluster 13: submitted via lola manhattan confined counseling private offer coaching monthly\n",
      "Cluster 14: tape self audition another cry praise sometimes problem high thankful\n",
      "Cluster 15: truck tow suv national info trailer looking commercial filming fire\n",
      "Cluster 16: official grateful trailer october wind best follow starring many selection\n",
      "Cluster 17: face watching political debate ti realized horror season movie hope\n",
      "Cluster 18: thank much following lot success check wish actor thanks represented\n",
      "Cluster 19: time join remember run today ready great another give nephew\n"
     ]
    }
   ],
   "source": [
    "fit_kmeans(20, X_actorslife, tf_actorslife)"
   ]
  },
  {
   "cell_type": "markdown",
   "metadata": {},
   "source": [
    "Looking at the list of words we can try to interpret some of the themes within each cluster. For example, cluster 6 has the words that all seem to relate to nature as well as words like quiet and getaway. Maybe this cluster has tweets related to being outside in nature in a quiet place. Kern and Kernville are also words in that cluster, it could be that there is some Kernville that is getting some attention in this #actorslife hashtag. Cluster 9 has the words headshot, session, photo, and look. From the word count we did earlier we can recognize that those words were commonly found together in bigrams and trigrams. This cluster could be a group of tweets all related to actors headshots, maybe they are getting new headshot photos taken and tweeting about it. "
   ]
  },
  {
   "cell_type": "markdown",
   "metadata": {},
   "source": [
    "### KMeans on Hashtags"
   ]
  },
  {
   "cell_type": "markdown",
   "metadata": {},
   "source": [
    "Now I will perform a similar KMeans analysis but only on the hashtags contained in the tweets. To prepare the data I simply need to convert the hashtags from a list of strings to a single string of hashtags."
   ]
  },
  {
   "cell_type": "code",
   "execution_count": 102,
   "metadata": {},
   "outputs": [],
   "source": [
    "actorslife['CleanHashtags'] = actorslife['Hashtags'].apply(lambda x: ' '.join(x))"
   ]
  },
  {
   "cell_type": "code",
   "execution_count": 103,
   "metadata": {
    "scrolled": false
   },
   "outputs": [
    {
     "data": {
      "text/html": [
       "<div>\n",
       "<style scoped>\n",
       "    .dataframe tbody tr th:only-of-type {\n",
       "        vertical-align: middle;\n",
       "    }\n",
       "\n",
       "    .dataframe tbody tr th {\n",
       "        vertical-align: top;\n",
       "    }\n",
       "\n",
       "    .dataframe thead th {\n",
       "        text-align: right;\n",
       "    }\n",
       "</style>\n",
       "<table border=\"1\" class=\"dataframe\">\n",
       "  <thead>\n",
       "    <tr style=\"text-align: right;\">\n",
       "      <th></th>\n",
       "      <th>Datetime</th>\n",
       "      <th>Tweet Id</th>\n",
       "      <th>Text</th>\n",
       "      <th>Hashtags</th>\n",
       "      <th>CleanHashtags</th>\n",
       "    </tr>\n",
       "  </thead>\n",
       "  <tbody>\n",
       "    <tr>\n",
       "      <td>0</td>\n",
       "      <td>2020-12-10 17:10:50</td>\n",
       "      <td>1337082356331528192</td>\n",
       "      <td>Let me book one job this year please please please 🙏🏽✨🙌🏽🥲 I mean...even I’m impressed by my range here. 🤓\\n#actorslife #asianactress https://t.co/lKzJml91mL</td>\n",
       "      <td>[#asianactress]</td>\n",
       "      <td>#asianactress</td>\n",
       "    </tr>\n",
       "    <tr>\n",
       "      <td>1</td>\n",
       "      <td>2020-12-10 17:10:14</td>\n",
       "      <td>1337082208012693509</td>\n",
       "      <td>BILLION STAR HOTEL by Alecs Nastoiu A touching story about a little homeless boy, learns how things are going in real life, from his mentor, Papa Rudi. CLICK HERE=&amp;gt; https://t.co/E7FQG7kUXJ #cinematographer #cinematography #dop #dp #director #actor #actress #actorslife #filmmaker https://t.co/ZEP5LRjBau</td>\n",
       "      <td>[#cinematographer, #cinematography, #dop, #dp, #director, #actor, #actress, #filmmaker]</td>\n",
       "      <td>#cinematographer #cinematography #dop #dp #director #actor #actress #filmmaker</td>\n",
       "    </tr>\n",
       "  </tbody>\n",
       "</table>\n",
       "</div>"
      ],
      "text/plain": [
       "              Datetime             Tweet Id  \\\n",
       "0  2020-12-10 17:10:50  1337082356331528192   \n",
       "1  2020-12-10 17:10:14  1337082208012693509   \n",
       "\n",
       "                                                                                                                                                                                                                                                                                                                 Text  \\\n",
       "0                                                                                                                                                        Let me book one job this year please please please 🙏🏽✨🙌🏽🥲 I mean...even I’m impressed by my range here. 🤓\\n#actorslife #asianactress https://t.co/lKzJml91mL   \n",
       "1  BILLION STAR HOTEL by Alecs Nastoiu A touching story about a little homeless boy, learns how things are going in real life, from his mentor, Papa Rudi. CLICK HERE=&gt; https://t.co/E7FQG7kUXJ #cinematographer #cinematography #dop #dp #director #actor #actress #actorslife #filmmaker https://t.co/ZEP5LRjBau   \n",
       "\n",
       "                                                                                  Hashtags  \\\n",
       "0                                                                          [#asianactress]   \n",
       "1  [#cinematographer, #cinematography, #dop, #dp, #director, #actor, #actress, #filmmaker]   \n",
       "\n",
       "                                                                    CleanHashtags  \n",
       "0                                                                   #asianactress  \n",
       "1  #cinematographer #cinematography #dop #dp #director #actor #actress #filmmaker  "
      ]
     },
     "execution_count": 103,
     "metadata": {},
     "output_type": "execute_result"
    }
   ],
   "source": [
    "actorslife.head(2)"
   ]
  },
  {
   "cell_type": "markdown",
   "metadata": {},
   "source": [
    "Again I will use the TFIDF Vectorizer to transform the text into vector of numerical values."
   ]
  },
  {
   "cell_type": "code",
   "execution_count": 104,
   "metadata": {},
   "outputs": [],
   "source": [
    "tf_actorslife = TfidfVectorizer()"
   ]
  },
  {
   "cell_type": "code",
   "execution_count": 105,
   "metadata": {},
   "outputs": [],
   "source": [
    "X_actorslife = tf_actorslife.fit_transform(actorslife['CleanHashtags'])"
   ]
  },
  {
   "cell_type": "markdown",
   "metadata": {},
   "source": [
    "Plotting the WCSS we can look at variability of observations between clusters."
   ]
  },
  {
   "cell_type": "code",
   "execution_count": 106,
   "metadata": {
    "scrolled": false
   },
   "outputs": [
    {
     "data": {
      "image/png": "[encoded data removed]",
      "text/plain": [
       "<Figure size 432x288 with 1 Axes>"
      ]
     },
     "metadata": {
      "needs_background": "light"
     },
     "output_type": "display_data"
    }
   ],
   "source": [
    "plot_wcss(X_actorslife)"
   ]
  },
  {
   "cell_type": "markdown",
   "metadata": {},
   "source": [
    "Now we can fit a KMeans model on the hashtags to see what hashtags cluster together."
   ]
  },
  {
   "cell_type": "code",
   "execution_count": 108,
   "metadata": {
    "scrolled": false
   },
   "outputs": [
    {
     "name": "stdout",
     "output_type": "stream",
     "text": [
      "Cluster 0: pilotseason tmfa thespian models filmmaker filmmaking imdb castingcall sagaftra theatre\n",
      "Cluster 1: ofmythandlegend signedonthedottedline westernmovie featurefilm flightattendant flamenco flashbackfriday flashgordon flashmovie flashpoint\n",
      "Cluster 2: holidayseason stilts mondaymotivation artistsjourney wednesdaymotivation christmas play adventcalendar achristmascarol faithtalk\n",
      "Cluster 3: actinginla acting 정해인 flikkers flashgordon flashmovie flashpoint flatearth fleabag flightattendant\n",
      "Cluster 4: applause 30daysofgratitude newplays theater actors 정해인 flashmovie flashpoint flatearth fleabag\n",
      "Cluster 5: talentagents atlactor hilaryjonesphotography nycactor actorsheadshots actorsuk laactor headshot actorlife headshots\n",
      "Cluster 6: hilaryjonesphotography actorsheadshots actorsuk laactor headshot actorlife atlactor nycactor headshots talentagents\n",
      "Cluster 7: filmreviews psychthemovie reviews franchise blog amazonprimevideo filmproduction movie film thebellaffairmovie\n",
      "Cluster 8: theatre 정해인 flightattendant flamenco flashbackfriday flashgordon flashmovie flashpoint flatearth fleabag\n",
      "Cluster 9: actor casting acting actors film actress voiceover theatre actorslife tv\n",
      "Cluster 10: winter fl flashbackfriday flashgordon flashmovie flashpoint flatearth fleabag flightattendant flightschool\n",
      "Cluster 11: hoodie sweatshirt hoodyseason blvckfashion streetfashion christmasgifts lightscameraaction onset filming setlife\n",
      "Cluster 12: nukkadnatak streetplay longtimeago memories play theatre actor flashmovie flashpoint flatearth\n",
      "Cluster 13: bossbabe 정해인 flikkers flashbackfriday flashgordon flashmovie flashpoint flatearth fleabag flightattendant\n",
      "Cluster 14: economy karma marketing quotes luxury psychics flightattendant flashgordon flashmovie flashpoint\n",
      "Cluster 15: writers savethearts christmas actors flowers flightattendant flamenco flashbackfriday flashgordon flashmovie\n",
      "Cluster 16: coolness badass pilotseason tmfa thespian models filmmaker filmmaking imdb castingcall\n",
      "Cluster 17: podcastlife audition actorslife lifelessons arts positivevibes flashbackfriday flashgordon flashmovie flashpoint\n",
      "Cluster 18: growth staypositive learningdisability behindthescenes mcconaughey phenomenon fitnessgoals thursdayvibes supportindiefilm detour\n",
      "Cluster 19: auditions casting actors 정해인 flikkers flashmovie flashpoint flatearth fleabag flightattendant\n"
     ]
    }
   ],
   "source": [
    "fit_kmeans(20, X_actorslife, tf_actorslife)"
   ]
  },
  {
   "cell_type": "markdown",
   "metadata": {},
   "source": [
    "From these clusters we can find hashtags that are commonly used together and maybe take a guess at what kind of content was contained in the tweet. For example cluster 11 has the hashtags hoodie, sweatshirt, blvckfashion and streetfashion. These tweets could be related to a new brand of sweatshirts or hoodies being sold, or that are in style. Cluster 7 has the hashtags filmreviews, reviews, movie, film, filmproduction, psychethemovie. These could be tweets dealing with reviews on movies/films, maybe even specifially the psyche movie. Or it could be that psyche the movie was clustered in with all of the rest of the movie/film hashtags. "
   ]
  },
  {
   "cell_type": "markdown",
   "metadata": {},
   "source": [
    "### Conclusion"
   ]
  },
  {
   "cell_type": "markdown",
   "metadata": {},
   "source": [
    "In the end I do have a list of clusters and corresponding words/hashtags within these clusters although, it is not always an easy job to interpret the words in a given cluster. Some clusters do seem to have specific focuses or themes while others might not really make any sense to me. Sometimes I can see that there might be overlap between clusters, or that a single cluster might contain words which can be grouped separately. \n",
    "\n",
    "One of the challenges in interpreting these results is that I don't really know how or why the clusters are being chosen by the model. There is too much data for me to individually validate whether or not a resulting cluster actually exists in the data or whether the clusters given by the model are unreliable.\n",
    "\n",
    "A few other things I could consider in further analysis would be the process of cleaning/preparing the text for the KMeans clustering. Currently I am using a lemmatizer to get the lemma, I could also consider using a stemmer, or  even not using either. Twitter text is a unique form of text that doesn't necessarily follow normal rules/regulations of the english language so there may be additional factors to consider because of that. There may be commonly used abbreviations or special characters that could add meaning to the tweet which I am unaware of. Also the use of emojis might be something that adds to the meaning of the text. Another element that I haven't addressed in this analysis is a retweet, currently I include all retweets in the dataset. This analysis doesn't account for a lot of things and could be enhanced in many ways. \n",
    "\n",
    "As an initial approach to clustering Twitter text data I do think it does a good enough job. There are unique insights that are able to be gleamed from the resulting data, especially if one is familiar with the #hashtag that is chosen. Also because of the generality of the analysis any twitter text data can be used. This analysis could be used to approach a community on twitter that someone is unfamiliar with in an effort to gain a greater understanding of the vocabulary used and the themes that are discussed commonly by people who are active in a specific twitter community.  "
   ]
  },
  {
   "cell_type": "markdown",
   "metadata": {},
   "source": [
    "#### More"
   ]
  },
  {
   "cell_type": "markdown",
   "metadata": {},
   "source": [
    "As I was working on this I noticed that Taylor Swift announced a new album this morning and I thought it would neat to grab some of the tweets that have been coming in on the #evermorealbum and look at the results of my analysis."
   ]
  },
  {
   "cell_type": "markdown",
   "metadata": {},
   "source": [
    "# #evermoreAlbum"
   ]
  },
  {
   "cell_type": "code",
   "execution_count": 165,
   "metadata": {},
   "outputs": [],
   "source": [
    "evermore = pd.read_csv('evermorealbum_10.csv')"
   ]
  },
  {
   "cell_type": "code",
   "execution_count": 166,
   "metadata": {},
   "outputs": [
    {
     "name": "stdout",
     "output_type": "stream",
     "text": [
      "<class 'pandas.core.frame.DataFrame'>\n",
      "RangeIndex: 10000 entries, 0 to 9999\n",
      "Data columns (total 3 columns):\n",
      "Datetime    10000 non-null object\n",
      "Tweet Id    10000 non-null int64\n",
      "Text        10000 non-null object\n",
      "dtypes: int64(1), object(2)\n",
      "memory usage: 234.5+ KB\n"
     ]
    }
   ],
   "source": [
    "evermore.info()"
   ]
  },
  {
   "cell_type": "code",
   "execution_count": 167,
   "metadata": {},
   "outputs": [
    {
     "data": {
      "text/html": [
       "<div>\n",
       "<style scoped>\n",
       "    .dataframe tbody tr th:only-of-type {\n",
       "        vertical-align: middle;\n",
       "    }\n",
       "\n",
       "    .dataframe tbody tr th {\n",
       "        vertical-align: top;\n",
       "    }\n",
       "\n",
       "    .dataframe thead th {\n",
       "        text-align: right;\n",
       "    }\n",
       "</style>\n",
       "<table border=\"1\" class=\"dataframe\">\n",
       "  <thead>\n",
       "    <tr style=\"text-align: right;\">\n",
       "      <th></th>\n",
       "      <th>Datetime</th>\n",
       "      <th>Tweet Id</th>\n",
       "      <th>Text</th>\n",
       "    </tr>\n",
       "  </thead>\n",
       "  <tbody>\n",
       "    <tr>\n",
       "      <td>0</td>\n",
       "      <td>2020-12-11 02:38:31</td>\n",
       "      <td>1337225218440323073</td>\n",
       "      <td>Me, accidentally waking my friend at 7AM because of the #evermorealbum announcement: https://t.co/vrnJJioIVf</td>\n",
       "    </tr>\n",
       "    <tr>\n",
       "      <td>1</td>\n",
       "      <td>2020-12-11 02:38:31</td>\n",
       "      <td>1337225218054529024</td>\n",
       "      <td>Who’s excited for @taylorswift13 new album tonight?\\n\\nHer hometown team is! #TaylorSwift #Evermore #Evermorealbum @TaylorNation13 #TS9 https://t.co/3UrPJr2HvU</td>\n",
       "    </tr>\n",
       "    <tr>\n",
       "      <td>2</td>\n",
       "      <td>2020-12-11 02:38:30</td>\n",
       "      <td>1337225217471475717</td>\n",
       "      <td>@taylornation13 Hey @taylornation13... blink twice if new merch will be dropping with the music video and album tonight 👀👀👀👀 #evermorealbum #evermorealbumcountdown #willowMusicVideo</td>\n",
       "    </tr>\n",
       "  </tbody>\n",
       "</table>\n",
       "</div>"
      ],
      "text/plain": [
       "              Datetime             Tweet Id  \\\n",
       "0  2020-12-11 02:38:31  1337225218440323073   \n",
       "1  2020-12-11 02:38:31  1337225218054529024   \n",
       "2  2020-12-11 02:38:30  1337225217471475717   \n",
       "\n",
       "                                                                                                                                                                                    Text  \n",
       "0                                                                           Me, accidentally waking my friend at 7AM because of the #evermorealbum announcement: https://t.co/vrnJJioIVf  \n",
       "1                        Who’s excited for @taylorswift13 new album tonight?\\n\\nHer hometown team is! #TaylorSwift #Evermore #Evermorealbum @TaylorNation13 #TS9 https://t.co/3UrPJr2HvU  \n",
       "2  @taylornation13 Hey @taylornation13... blink twice if new merch will be dropping with the music video and album tonight 👀👀👀👀 #evermorealbum #evermorealbumcountdown #willowMusicVideo  "
      ]
     },
     "execution_count": 167,
     "metadata": {},
     "output_type": "execute_result"
    }
   ],
   "source": [
    "evermore.head(3)"
   ]
  },
  {
   "cell_type": "code",
   "execution_count": 168,
   "metadata": {},
   "outputs": [],
   "source": [
    "text = evermore['Text'].apply(wc_text_processor)"
   ]
  },
  {
   "cell_type": "code",
   "execution_count": 169,
   "metadata": {},
   "outputs": [
    {
     "data": {
      "text/plain": [
       "0                               [accidentally, waking, friend, announcement]\n",
       "1                             [excited, new, album, tonight, hometown, team]\n",
       "2    [hey, blink, twice, new, merch, dropping, music, video, album, tonight]\n",
       "Name: Text, dtype: object"
      ]
     },
     "execution_count": 169,
     "metadata": {},
     "output_type": "execute_result"
    }
   ],
   "source": [
    "text.head(3)"
   ]
  },
  {
   "cell_type": "code",
   "execution_count": 170,
   "metadata": {},
   "outputs": [
    {
     "data": {
      "text/html": [
       "<div>\n",
       "<style scoped>\n",
       "    .dataframe tbody tr th:only-of-type {\n",
       "        vertical-align: middle;\n",
       "    }\n",
       "\n",
       "    .dataframe tbody tr th {\n",
       "        vertical-align: top;\n",
       "    }\n",
       "\n",
       "    .dataframe thead th {\n",
       "        text-align: right;\n",
       "    }\n",
       "</style>\n",
       "<table border=\"1\" class=\"dataframe\">\n",
       "  <thead>\n",
       "    <tr style=\"text-align: right;\">\n",
       "      <th></th>\n",
       "      <th>word</th>\n",
       "      <th>count</th>\n",
       "    </tr>\n",
       "  </thead>\n",
       "  <tbody>\n",
       "    <tr>\n",
       "      <td>6</td>\n",
       "      <td>album</td>\n",
       "      <td>2647</td>\n",
       "    </tr>\n",
       "    <tr>\n",
       "      <td>41</td>\n",
       "      <td>taylor</td>\n",
       "      <td>1627</td>\n",
       "    </tr>\n",
       "    <tr>\n",
       "      <td>139</td>\n",
       "      <td>hour</td>\n",
       "      <td>1416</td>\n",
       "    </tr>\n",
       "    <tr>\n",
       "      <td>27</td>\n",
       "      <td>pre</td>\n",
       "      <td>1374</td>\n",
       "    </tr>\n",
       "    <tr>\n",
       "      <td>28</td>\n",
       "      <td>order</td>\n",
       "      <td>1322</td>\n",
       "    </tr>\n",
       "    <tr>\n",
       "      <td>5</td>\n",
       "      <td>new</td>\n",
       "      <td>1025</td>\n",
       "    </tr>\n",
       "    <tr>\n",
       "      <td>29</td>\n",
       "      <td>listen</td>\n",
       "      <td>994</td>\n",
       "    </tr>\n",
       "    <tr>\n",
       "      <td>132</td>\n",
       "      <td>premiere</td>\n",
       "      <td>959</td>\n",
       "    </tr>\n",
       "    <tr>\n",
       "      <td>92</td>\n",
       "      <td>u</td>\n",
       "      <td>952</td>\n",
       "    </tr>\n",
       "    <tr>\n",
       "      <td>131</td>\n",
       "      <td>closer</td>\n",
       "      <td>914</td>\n",
       "    </tr>\n",
       "    <tr>\n",
       "      <td>125</td>\n",
       "      <td>swift</td>\n",
       "      <td>848</td>\n",
       "    </tr>\n",
       "    <tr>\n",
       "      <td>30</td>\n",
       "      <td>folklore</td>\n",
       "      <td>844</td>\n",
       "    </tr>\n",
       "    <tr>\n",
       "      <td>21</td>\n",
       "      <td>getting</td>\n",
       "      <td>837</td>\n",
       "    </tr>\n",
       "    <tr>\n",
       "      <td>7</td>\n",
       "      <td>tonight</td>\n",
       "      <td>800</td>\n",
       "    </tr>\n",
       "    <tr>\n",
       "      <td>4</td>\n",
       "      <td>excited</td>\n",
       "      <td>730</td>\n",
       "    </tr>\n",
       "  </tbody>\n",
       "</table>\n",
       "</div>"
      ],
      "text/plain": [
       "         word  count\n",
       "6       album   2647\n",
       "41     taylor   1627\n",
       "139      hour   1416\n",
       "27        pre   1374\n",
       "28      order   1322\n",
       "5         new   1025\n",
       "29     listen    994\n",
       "132  premiere    959\n",
       "92          u    952\n",
       "131    closer    914\n",
       "125     swift    848\n",
       "30   folklore    844\n",
       "21    getting    837\n",
       "7     tonight    800\n",
       "4     excited    730"
      ]
     },
     "execution_count": 170,
     "metadata": {},
     "output_type": "execute_result"
    },
    {
     "data": {
      "image/png": "[encoded data removed]",
      "text/plain": [
       "<Figure size 864x360 with 1 Axes>"
      ]
     },
     "metadata": {
      "needs_background": "light"
     },
     "output_type": "display_data"
    }
   ],
   "source": [
    "word_count(text)"
   ]
  },
  {
   "cell_type": "code",
   "execution_count": 171,
   "metadata": {},
   "outputs": [
    {
     "data": {
      "text/html": [
       "<div>\n",
       "<style scoped>\n",
       "    .dataframe tbody tr th:only-of-type {\n",
       "        vertical-align: middle;\n",
       "    }\n",
       "\n",
       "    .dataframe tbody tr th {\n",
       "        vertical-align: top;\n",
       "    }\n",
       "\n",
       "    .dataframe thead th {\n",
       "        text-align: right;\n",
       "    }\n",
       "</style>\n",
       "<table border=\"1\" class=\"dataframe\">\n",
       "  <thead>\n",
       "    <tr style=\"text-align: right;\">\n",
       "      <th></th>\n",
       "      <th>word</th>\n",
       "      <th>count</th>\n",
       "    </tr>\n",
       "  </thead>\n",
       "  <tbody>\n",
       "    <tr>\n",
       "      <td>30</td>\n",
       "      <td>(pre, order)</td>\n",
       "      <td>1319</td>\n",
       "    </tr>\n",
       "    <tr>\n",
       "      <td>155</td>\n",
       "      <td>(taylor, swift)</td>\n",
       "      <td>794</td>\n",
       "    </tr>\n",
       "    <tr>\n",
       "      <td>5</td>\n",
       "      <td>(new, album)</td>\n",
       "      <td>657</td>\n",
       "    </tr>\n",
       "    <tr>\n",
       "      <td>207</td>\n",
       "      <td>(owns, u)</td>\n",
       "      <td>641</td>\n",
       "    </tr>\n",
       "    <tr>\n",
       "      <td>206</td>\n",
       "      <td>(user, owns)</td>\n",
       "      <td>639</td>\n",
       "    </tr>\n",
       "    <tr>\n",
       "      <td>175</td>\n",
       "      <td>(hour, go)</td>\n",
       "      <td>488</td>\n",
       "    </tr>\n",
       "    <tr>\n",
       "      <td>165</td>\n",
       "      <td>(getting, closer)</td>\n",
       "      <td>455</td>\n",
       "    </tr>\n",
       "    <tr>\n",
       "      <td>166</td>\n",
       "      <td>(closer, closer)</td>\n",
       "      <td>454</td>\n",
       "    </tr>\n",
       "    <tr>\n",
       "      <td>167</td>\n",
       "      <td>(closer, premiere)</td>\n",
       "      <td>453</td>\n",
       "    </tr>\n",
       "    <tr>\n",
       "      <td>174</td>\n",
       "      <td>(five, hour)</td>\n",
       "      <td>453</td>\n",
       "    </tr>\n",
       "  </tbody>\n",
       "</table>\n",
       "</div>"
      ],
      "text/plain": [
       "                   word  count\n",
       "30         (pre, order)   1319\n",
       "155     (taylor, swift)    794\n",
       "5          (new, album)    657\n",
       "207           (owns, u)    641\n",
       "206        (user, owns)    639\n",
       "175          (hour, go)    488\n",
       "165   (getting, closer)    455\n",
       "166    (closer, closer)    454\n",
       "167  (closer, premiere)    453\n",
       "174        (five, hour)    453"
      ]
     },
     "execution_count": 171,
     "metadata": {},
     "output_type": "execute_result"
    }
   ],
   "source": [
    "word_count_bigrams(text)"
   ]
  },
  {
   "cell_type": "code",
   "execution_count": 172,
   "metadata": {
    "scrolled": true
   },
   "outputs": [
    {
     "data": {
      "text/html": [
       "<div>\n",
       "<style scoped>\n",
       "    .dataframe tbody tr th:only-of-type {\n",
       "        vertical-align: middle;\n",
       "    }\n",
       "\n",
       "    .dataframe tbody tr th {\n",
       "        vertical-align: top;\n",
       "    }\n",
       "\n",
       "    .dataframe thead th {\n",
       "        text-align: right;\n",
       "    }\n",
       "</style>\n",
       "<table border=\"1\" class=\"dataframe\">\n",
       "  <thead>\n",
       "    <tr style=\"text-align: right;\">\n",
       "      <th></th>\n",
       "      <th>word</th>\n",
       "      <th>count</th>\n",
       "    </tr>\n",
       "  </thead>\n",
       "  <tbody>\n",
       "    <tr>\n",
       "      <td>218</td>\n",
       "      <td>(user, owns, u)</td>\n",
       "      <td>639</td>\n",
       "    </tr>\n",
       "    <tr>\n",
       "      <td>175</td>\n",
       "      <td>(getting, closer, closer)</td>\n",
       "      <td>454</td>\n",
       "    </tr>\n",
       "    <tr>\n",
       "      <td>176</td>\n",
       "      <td>(closer, closer, premiere)</td>\n",
       "      <td>453</td>\n",
       "    </tr>\n",
       "    <tr>\n",
       "      <td>184</td>\n",
       "      <td>(five, hour, go)</td>\n",
       "      <td>452</td>\n",
       "    </tr>\n",
       "    <tr>\n",
       "      <td>183</td>\n",
       "      <td>(going, five, hour)</td>\n",
       "      <td>450</td>\n",
       "    </tr>\n",
       "    <tr>\n",
       "      <td>179</td>\n",
       "      <td>(back, bit, keep)</td>\n",
       "      <td>450</td>\n",
       "    </tr>\n",
       "    <tr>\n",
       "      <td>178</td>\n",
       "      <td>(premiere, back, bit)</td>\n",
       "      <td>450</td>\n",
       "    </tr>\n",
       "    <tr>\n",
       "      <td>177</td>\n",
       "      <td>(closer, premiere, back)</td>\n",
       "      <td>450</td>\n",
       "    </tr>\n",
       "    <tr>\n",
       "      <td>181</td>\n",
       "      <td>(keep, excitement, going)</td>\n",
       "      <td>450</td>\n",
       "    </tr>\n",
       "    <tr>\n",
       "      <td>182</td>\n",
       "      <td>(excitement, going, five)</td>\n",
       "      <td>450</td>\n",
       "    </tr>\n",
       "  </tbody>\n",
       "</table>\n",
       "</div>"
      ],
      "text/plain": [
       "                           word  count\n",
       "218             (user, owns, u)    639\n",
       "175   (getting, closer, closer)    454\n",
       "176  (closer, closer, premiere)    453\n",
       "184            (five, hour, go)    452\n",
       "183         (going, five, hour)    450\n",
       "179           (back, bit, keep)    450\n",
       "178       (premiere, back, bit)    450\n",
       "177    (closer, premiere, back)    450\n",
       "181   (keep, excitement, going)    450\n",
       "182   (excitement, going, five)    450"
      ]
     },
     "execution_count": 172,
     "metadata": {},
     "output_type": "execute_result"
    }
   ],
   "source": [
    "word_count_trigrams(text)"
   ]
  },
  {
   "cell_type": "code",
   "execution_count": 173,
   "metadata": {},
   "outputs": [],
   "source": [
    "evermore['Hashtags'] = evermore['Text'].apply(getHashtags)"
   ]
  },
  {
   "cell_type": "code",
   "execution_count": 174,
   "metadata": {
    "scrolled": true
   },
   "outputs": [
    {
     "data": {
      "text/html": [
       "<div>\n",
       "<style scoped>\n",
       "    .dataframe tbody tr th:only-of-type {\n",
       "        vertical-align: middle;\n",
       "    }\n",
       "\n",
       "    .dataframe tbody tr th {\n",
       "        vertical-align: top;\n",
       "    }\n",
       "\n",
       "    .dataframe thead th {\n",
       "        text-align: right;\n",
       "    }\n",
       "</style>\n",
       "<table border=\"1\" class=\"dataframe\">\n",
       "  <thead>\n",
       "    <tr style=\"text-align: right;\">\n",
       "      <th></th>\n",
       "      <th>Datetime</th>\n",
       "      <th>Tweet Id</th>\n",
       "      <th>Text</th>\n",
       "      <th>Hashtags</th>\n",
       "    </tr>\n",
       "  </thead>\n",
       "  <tbody>\n",
       "    <tr>\n",
       "      <td>0</td>\n",
       "      <td>2020-12-11 02:38:31</td>\n",
       "      <td>1337225218440323073</td>\n",
       "      <td>Me, accidentally waking my friend at 7AM because of the #evermorealbum announcement: https://t.co/vrnJJioIVf</td>\n",
       "      <td>[#evermorealbum]</td>\n",
       "    </tr>\n",
       "    <tr>\n",
       "      <td>1</td>\n",
       "      <td>2020-12-11 02:38:31</td>\n",
       "      <td>1337225218054529024</td>\n",
       "      <td>Who’s excited for @taylorswift13 new album tonight?\\n\\nHer hometown team is! #TaylorSwift #Evermore #Evermorealbum @TaylorNation13 #TS9 https://t.co/3UrPJr2HvU</td>\n",
       "      <td>[#taylorswift, #evermore, #evermorealbum, #ts9]</td>\n",
       "    </tr>\n",
       "    <tr>\n",
       "      <td>2</td>\n",
       "      <td>2020-12-11 02:38:30</td>\n",
       "      <td>1337225217471475717</td>\n",
       "      <td>@taylornation13 Hey @taylornation13... blink twice if new merch will be dropping with the music video and album tonight 👀👀👀👀 #evermorealbum #evermorealbumcountdown #willowMusicVideo</td>\n",
       "      <td>[#evermorealbum, #evermorealbumcountdown, #willowmusicvideo]</td>\n",
       "    </tr>\n",
       "  </tbody>\n",
       "</table>\n",
       "</div>"
      ],
      "text/plain": [
       "              Datetime             Tweet Id  \\\n",
       "0  2020-12-11 02:38:31  1337225218440323073   \n",
       "1  2020-12-11 02:38:31  1337225218054529024   \n",
       "2  2020-12-11 02:38:30  1337225217471475717   \n",
       "\n",
       "                                                                                                                                                                                    Text  \\\n",
       "0                                                                           Me, accidentally waking my friend at 7AM because of the #evermorealbum announcement: https://t.co/vrnJJioIVf   \n",
       "1                        Who’s excited for @taylorswift13 new album tonight?\\n\\nHer hometown team is! #TaylorSwift #Evermore #Evermorealbum @TaylorNation13 #TS9 https://t.co/3UrPJr2HvU   \n",
       "2  @taylornation13 Hey @taylornation13... blink twice if new merch will be dropping with the music video and album tonight 👀👀👀👀 #evermorealbum #evermorealbumcountdown #willowMusicVideo   \n",
       "\n",
       "                                                       Hashtags  \n",
       "0                                              [#evermorealbum]  \n",
       "1               [#taylorswift, #evermore, #evermorealbum, #ts9]  \n",
       "2  [#evermorealbum, #evermorealbumcountdown, #willowmusicvideo]  "
      ]
     },
     "execution_count": 174,
     "metadata": {},
     "output_type": "execute_result"
    }
   ],
   "source": [
    "evermore.head(3)"
   ]
  },
  {
   "cell_type": "code",
   "execution_count": 175,
   "metadata": {},
   "outputs": [
    {
     "data": {
      "text/plain": [
       "0    None\n",
       "1    None\n",
       "2    None\n",
       "Name: Hashtags, dtype: object"
      ]
     },
     "execution_count": 175,
     "metadata": {},
     "output_type": "execute_result"
    }
   ],
   "source": [
    "evermore['Hashtags'].apply(lambda x : x.remove('#evermorealbum') if ('#evermorealbum' in x) else x).head(3)"
   ]
  },
  {
   "cell_type": "code",
   "execution_count": 176,
   "metadata": {
    "scrolled": false
   },
   "outputs": [
    {
     "data": {
      "text/html": [
       "<div>\n",
       "<style scoped>\n",
       "    .dataframe tbody tr th:only-of-type {\n",
       "        vertical-align: middle;\n",
       "    }\n",
       "\n",
       "    .dataframe tbody tr th {\n",
       "        vertical-align: top;\n",
       "    }\n",
       "\n",
       "    .dataframe thead th {\n",
       "        text-align: right;\n",
       "    }\n",
       "</style>\n",
       "<table border=\"1\" class=\"dataframe\">\n",
       "  <thead>\n",
       "    <tr style=\"text-align: right;\">\n",
       "      <th></th>\n",
       "      <th>word</th>\n",
       "      <th>count</th>\n",
       "    </tr>\n",
       "  </thead>\n",
       "  <tbody>\n",
       "    <tr>\n",
       "      <td>4</td>\n",
       "      <td>#willowmusicvideo</td>\n",
       "      <td>2285</td>\n",
       "    </tr>\n",
       "    <tr>\n",
       "      <td>0</td>\n",
       "      <td>#taylorswift</td>\n",
       "      <td>1638</td>\n",
       "    </tr>\n",
       "    <tr>\n",
       "      <td>6</td>\n",
       "      <td>#evermoreatmidnight</td>\n",
       "      <td>997</td>\n",
       "    </tr>\n",
       "    <tr>\n",
       "      <td>3</td>\n",
       "      <td>#evermorealbumcountdown</td>\n",
       "      <td>603</td>\n",
       "    </tr>\n",
       "    <tr>\n",
       "      <td>1</td>\n",
       "      <td>#evermore</td>\n",
       "      <td>582</td>\n",
       "    </tr>\n",
       "    <tr>\n",
       "      <td>5</td>\n",
       "      <td>#willowatmidnight</td>\n",
       "      <td>465</td>\n",
       "    </tr>\n",
       "    <tr>\n",
       "      <td>28</td>\n",
       "      <td>#evermorealbumin6hours</td>\n",
       "      <td>372</td>\n",
       "    </tr>\n",
       "    <tr>\n",
       "      <td>7</td>\n",
       "      <td>#folklore</td>\n",
       "      <td>327</td>\n",
       "    </tr>\n",
       "    <tr>\n",
       "      <td>16</td>\n",
       "      <td>#willow</td>\n",
       "      <td>311</td>\n",
       "    </tr>\n",
       "    <tr>\n",
       "      <td>35</td>\n",
       "      <td>#evermoreiscoming</td>\n",
       "      <td>166</td>\n",
       "    </tr>\n",
       "    <tr>\n",
       "      <td>18</td>\n",
       "      <td>#evermorealbum...anybody</td>\n",
       "      <td>150</td>\n",
       "    </tr>\n",
       "    <tr>\n",
       "      <td>14</td>\n",
       "      <td>#evermorealbum</td>\n",
       "      <td>117</td>\n",
       "    </tr>\n",
       "    <tr>\n",
       "      <td>43</td>\n",
       "      <td>#tisthedamnseason</td>\n",
       "      <td>106</td>\n",
       "    </tr>\n",
       "    <tr>\n",
       "      <td>98</td>\n",
       "      <td>#evermorealbum?</td>\n",
       "      <td>53</td>\n",
       "    </tr>\n",
       "    <tr>\n",
       "      <td>42</td>\n",
       "      <td>#taylorswift:</td>\n",
       "      <td>52</td>\n",
       "    </tr>\n",
       "  </tbody>\n",
       "</table>\n",
       "</div>"
      ],
      "text/plain": [
       "                        word  count\n",
       "4          #willowmusicvideo   2285\n",
       "0               #taylorswift   1638\n",
       "6        #evermoreatmidnight    997\n",
       "3    #evermorealbumcountdown    603\n",
       "1                  #evermore    582\n",
       "5          #willowatmidnight    465\n",
       "28    #evermorealbumin6hours    372\n",
       "7                  #folklore    327\n",
       "16                   #willow    311\n",
       "35         #evermoreiscoming    166\n",
       "18  #evermorealbum...anybody    150\n",
       "14           #evermorealbum     117\n",
       "43         #tisthedamnseason    106\n",
       "98           #evermorealbum?     53\n",
       "42             #taylorswift:     52"
      ]
     },
     "execution_count": 176,
     "metadata": {},
     "output_type": "execute_result"
    },
    {
     "data": {
      "image/png": "[encoded data removed]",
      "text/plain": [
       "<Figure size 864x360 with 1 Axes>"
      ]
     },
     "metadata": {
      "needs_background": "light"
     },
     "output_type": "display_data"
    }
   ],
   "source": [
    "word_count(evermore['Hashtags'])"
   ]
  },
  {
   "cell_type": "code",
   "execution_count": null,
   "metadata": {},
   "outputs": [],
   "source": []
  },
  {
   "cell_type": "code",
   "execution_count": 177,
   "metadata": {},
   "outputs": [],
   "source": [
    "text = evermore['Text'].apply(tfidf_text_processor)"
   ]
  },
  {
   "cell_type": "code",
   "execution_count": 192,
   "metadata": {},
   "outputs": [],
   "source": [
    "tf = TfidfVectorizer()"
   ]
  },
  {
   "cell_type": "code",
   "execution_count": 193,
   "metadata": {},
   "outputs": [],
   "source": [
    "X = tf.fit_transform(text)"
   ]
  },
  {
   "cell_type": "code",
   "execution_count": 180,
   "metadata": {},
   "outputs": [
    {
     "data": {
      "image/png": "[encoded data removed]",
      "text/plain": [
       "<Figure size 432x288 with 1 Axes>"
      ]
     },
     "metadata": {
      "needs_background": "light"
     },
     "output_type": "display_data"
    }
   ],
   "source": [
    "plot_wcss(X)"
   ]
  },
  {
   "cell_type": "code",
   "execution_count": 194,
   "metadata": {
    "scrolled": false
   },
   "outputs": [
    {
     "name": "stdout",
     "output_type": "stream",
     "text": [
      "Cluster 0: mood convince otherwise whole today always cannot great filter happened\n",
      "Cluster 1: digital edition song new tonight learn booklet album exclusive standard\n",
      "Cluster 2: spite beer fine candle tear finest finally find finding 𝚠𝚑𝚊𝚝\n",
      "Cluster 3: start trending paste copy taylor album excited like wait evermore\n",
      "Cluster 4: listen order pre minus watch track see use album excited\n",
      "Cluster 5: swift taylor tour next issue trust reason directed dancer credit\n",
      "Cluster 6: road taken look real good besties awake morning finding final\n",
      "Cluster 7: owns user taylor album 𝚠𝚑𝚊𝚝 finalchapter fiona finlay finished finish\n",
      "Cluster 8: hour three go till left four le omg minute wait\n",
      "Cluster 9: reqs willing place repeat first listen finalchapter finally find finding\n",
      "Cluster 10: major freak definitely finger finally find finding fine finest 𝚠𝚑𝚊𝚝\n",
      "Cluster 11: tomorrow nap alarm set wake take lunch weeping work agenda\n",
      "Cluster 12: willow mv get stream trend steam push view reply goal\n",
      "Cluster 13: press hearing play reaction first good listen tonight folklore getting\n",
      "Cluster 14: closer bit five excitement go keep going back getting premiere\n",
      "Cluster 15: swifties surprise another released taylor album wanted drop show swift\n",
      "Cluster 16: evermore midnight waiting ready ok track new folklore est sm\n",
      "Cluster 17: much hand evermore ily lt love excited time thank tonight\n",
      "Cluster 18: wait lil meet feeling listening party let est use like\n",
      "Cluster 19: ready via instagram ig story aaaron dessner excited muffin album\n"
     ]
    }
   ],
   "source": [
    "fit_kmeans(20, X, tf)"
   ]
  },
  {
   "cell_type": "code",
   "execution_count": 182,
   "metadata": {},
   "outputs": [],
   "source": [
    "evermore['CleanHashtags'] = evermore['Hashtags'].apply(lambda x: ' '.join(x))"
   ]
  },
  {
   "cell_type": "code",
   "execution_count": 183,
   "metadata": {},
   "outputs": [],
   "source": [
    "tf1 = TfidfVectorizer()"
   ]
  },
  {
   "cell_type": "code",
   "execution_count": 184,
   "metadata": {},
   "outputs": [],
   "source": [
    "X1 = tf1.fit_transform(evermore['CleanHashtags'])"
   ]
  },
  {
   "cell_type": "code",
   "execution_count": 185,
   "metadata": {},
   "outputs": [
    {
     "data": {
      "image/png": "[encoded data removed]",
      "text/plain": [
       "<Figure size 432x288 with 1 Axes>"
      ]
     },
     "metadata": {
      "needs_background": "light"
     },
     "output_type": "display_data"
    }
   ],
   "source": [
    "plot_wcss(X1)"
   ]
  },
  {
   "cell_type": "code",
   "execution_count": 186,
   "metadata": {},
   "outputs": [
    {
     "name": "stdout",
     "output_type": "stream",
     "text": [
      "Cluster 0: evermorealbumcountdown taylorswift evermorealbum folklore willowmusicvideo exile evermoreatmidnight evermorebraids evermorebumcountdown evermorecountdown\n",
      "Cluster 1: evermore evermoreiscoming ts9 evermoreatmidnight taylorswift evermorealbumin5hours taylorswiftevermore folklore willowmusicvideo folkloreondisneyplus\n",
      "Cluster 2: willowmusicvideo evermore مقاطعه_المنتجات_الفرنسيه44 evermorebumcountdown evermorecountdown evermoreheader evermorein3hours evermorein6hours evermoreiscoming evermoreiscomming\n",
      "Cluster 3: taylorswift willowmusicvideo evermore evermoreiscoming evermoreatmidnight evermoreiscomming evermorebraids evermorebumcountdown evermorecountdown evermoreheader\n",
      "Cluster 4: evermorealbum evermore willowmusicvideo evermoreatmidnight taylorswift evermoreiscoming evermorealbumin3hours evermorealbumcountdown evermorebraids evermorebumcountdown\n",
      "Cluster 5: evermoreatmidnight willowatmidnight taylorswift willowmusicvideo evermorealbum evermore evermoreiscoming willow evermorealbumin6hours evermorebumcountdown\n",
      "Cluster 6: folklore evermore evermoreatmidnight taylorswift evermorealbum evermoreiscoming willowmusicvideo folklorethursday the swiftie\n",
      "Cluster 7: evermorealbumin6hours willowmusicvideo evermore evermoreatmidnight exteriordesignluxuryiredn exteriordesignideas evermorebumcountdown evermorecountdown fallguys evermoreheader\n",
      "Cluster 8: anybody evermorealbum evermorealbumcountdown willowmusicvideo مقاطعه_المنتجات_الفرنسيه44 evermorebraids evermorecountdown evermoreheader evermorein3hours evermorein6hours\n",
      "Cluster 9: willow tisthedamnseason taylorswift willowmusicvideo evermore evermoretonight evermoreatmidnight wilowatmidnight evermorealbum evermoreiscoming\n"
     ]
    }
   ],
   "source": [
    "fit_kmeans(10, X1, tf1)"
   ]
  },
  {
   "cell_type": "markdown",
   "metadata": {},
   "source": [
    "Not sure how interpretable these are since the leading hashtags can be found in all of the clusters. There is just an overwhelming dominance on a couple of the hashtags, it maybe that that factor is prevent clustering. Or it could also be that clustering on hashtags is more difficult. "
   ]
  }
 ],
 "metadata": {
  "kernelspec": {
   "display_name": "Python 3",
   "language": "python",
   "name": "python3"
  },
  "language_info": {
   "codemirror_mode": {
    "name": "ipython",
    "version": 3
   },
   "file_extension": ".py",
   "mimetype": "text/x-python",
   "name": "python",
   "nbconvert_exporter": "python",
   "pygments_lexer": "ipython3",
   "version": "3.7.4"
  }
 },
 "nbformat": 4,
 "nbformat_minor": 2
}
