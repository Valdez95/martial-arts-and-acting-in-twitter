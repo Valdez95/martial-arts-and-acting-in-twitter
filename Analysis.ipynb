{
 "cells": [
  {
   "cell_type": "code",
   "execution_count": 76,
   "metadata": {},
   "outputs": [],
   "source": [
    "import pandas as pd\n",
    "import numpy as np\n",
    "import matplotlib.pyplot as plt\n",
    "import seaborn as sns\n",
    "sns.set_style('whitegrid')\n",
    "import re\n",
    "from nltk import wordpunct_tokenize, word_tokenize, sent_tokenize\n",
    "from nltk.stem import WordNetLemmatizer\n",
    "from nltk.corpus import stopwords\n",
    "from collections import Counter\n",
    "from sklearn.cluster import MiniBatchKMeans\n",
    "from sklearn.cluster import KMeans\n",
    "from sklearn.feature_extraction.text import TfidfVectorizer\n",
    "pd.options.display.max_colwidth = 500"
   ]
  },
  {
   "cell_type": "code",
   "execution_count": 110,
   "metadata": {},
   "outputs": [],
   "source": [
    "sw = stopwords.words('english')\n",
    "# append rt (Retweet), rts (Retweets), u (you), amp (& character), and empty characters to the list of stop words\n",
    "sw.append('rt')\n",
    "sw.append('rts')\n",
    "sw.append('u')\n",
    "sw.append('amp')\n",
    "sw.append('')"
   ]
  },
  {
   "cell_type": "code",
   "execution_count": 4,
   "metadata": {},
   "outputs": [],
   "source": [
    "def getHashtags(string):\n",
    "    hashtagList = []\n",
    "    stringList = re.split(' |\\n', string)\n",
    "    result = [i for i in stringList if '#' in i]\n",
    "    for string in result:\n",
    "        hashtagList.append(string)\n",
    "        \n",
    "    return hashtagList"
   ]
  },
  {
   "cell_type": "code",
   "execution_count": 5,
   "metadata": {},
   "outputs": [],
   "source": [
    "def removeSubstring(substringList, string):\n",
    "    stringList = re.split(' |\\n|!|,|;|?|-|/', string)\n",
    "    for substring in substringList:\n",
    "        result = [i for i in stringList if substring in i]\n",
    "        for string in result:\n",
    "            stringList.remove(string)\n",
    "    \n",
    "    return \" \".join(stringList)"
   ]
  },
  {
   "cell_type": "code",
   "execution_count": 6,
   "metadata": {},
   "outputs": [],
   "source": [
    "def word_count_text_processor(x):\n",
    "    x = x.lower()\n",
    "    # remove all https://hyperlinks, #hashtags, and @mentions from the text\n",
    "    x = removeSubstring(['http://', 'https://', '#', '@'], x)\n",
    "    tokens = wordpunct_tokenize(x)\n",
    "    tokens = [tok for tok in tokens if tok.isalnum()]\n",
    "    tokens = [tok for tok in tokens if tok not in sw]\n",
    "    return(tokens)"
   ]
  },
  {
   "cell_type": "code",
   "execution_count": 7,
   "metadata": {},
   "outputs": [],
   "source": [
    "def word_count(file):\n",
    "    df = pd.read_csv(file)\n",
    "    text_clean = df['Text'].apply(word_count_text_processor)\n",
    "    all_text = []\n",
    "    for words in text_clean:\n",
    "        all_text += words\n",
    "    c = Counter(all_text)\n",
    "    return c.most_common(20)"
   ]
  },
  {
   "cell_type": "code",
   "execution_count": null,
   "metadata": {},
   "outputs": [],
   "source": []
  },
  {
   "cell_type": "markdown",
   "metadata": {},
   "source": [
    "# Word Count"
   ]
  },
  {
   "cell_type": "code",
   "execution_count": 58,
   "metadata": {},
   "outputs": [],
   "source": [
    "test = pd.read_csv('acting_hashtag_5000.csv')"
   ]
  },
  {
   "cell_type": "code",
   "execution_count": 59,
   "metadata": {},
   "outputs": [],
   "source": [
    "x = pd.DataFrame([['#acting', test, word_count('acting_hashtag_5000.csv')]], columns=['HashtagQuery', 'HashtagDF', 'CommonWords'])"
   ]
  },
  {
   "cell_type": "code",
   "execution_count": 60,
   "metadata": {},
   "outputs": [
    {
     "data": {
      "text/html": [
       "<div>\n",
       "<style scoped>\n",
       "    .dataframe tbody tr th:only-of-type {\n",
       "        vertical-align: middle;\n",
       "    }\n",
       "\n",
       "    .dataframe tbody tr th {\n",
       "        vertical-align: top;\n",
       "    }\n",
       "\n",
       "    .dataframe thead th {\n",
       "        text-align: right;\n",
       "    }\n",
       "</style>\n",
       "<table border=\"1\" class=\"dataframe\">\n",
       "  <thead>\n",
       "    <tr style=\"text-align: right;\">\n",
       "      <th></th>\n",
       "      <th>HashtagQuery</th>\n",
       "      <th>HashtagDF</th>\n",
       "      <th>CommonWords</th>\n",
       "    </tr>\n",
       "  </thead>\n",
       "  <tbody>\n",
       "    <tr>\n",
       "      <td>0</td>\n",
       "      <td>#acting</td>\n",
       "      <td>Datetime             Tweet Id  \\\n",
       "0     2020-12-06 22:03:04  1335706349120991233   \n",
       "1     2020-12-06 22:02:04  1335706097085104128   \n",
       "2     2020-12-06 22:00:30  1335705701423964160   \n",
       "3     2020-12-06 22:00:09  1335705614740230146   \n",
       "4     2020-12-06 22:00:03  1335705591793192961   \n",
       "...                   ...                  ...   \n",
       "3888  2020-11-27 19:17:14  1332403125546864648   \n",
       "3889  2020-11-27 19:11:45  1332401746300301316   \n",
       "3890  2020-11-27 19:11:32  1332401688649428992...</td>\n",
       "      <td>[(one, 340), (acting, 334), (6, 306), (photo, 226), (9, 223), (headshots, 221), (looks, 218), (session, 215), (295, 210), (2hr, 210), (checked, 208), (love, 192), (watch, 179), (great, 178), (new, 173), (film, 172), (show, 151), (get, 149), (check, 142), (time, 142)]</td>\n",
       "    </tr>\n",
       "  </tbody>\n",
       "</table>\n",
       "</div>"
      ],
      "text/plain": [
       "  HashtagQuery  \\\n",
       "0      #acting   \n",
       "\n",
       "                                                                                                                                                                                                                                                                                                                                                                                                                                                                                                             HashtagDF  \\\n",
       "0                   Datetime             Tweet Id  \\\n",
       "0     2020-12-06 22:03:04  1335706349120991233   \n",
       "1     2020-12-06 22:02:04  1335706097085104128   \n",
       "2     2020-12-06 22:00:30  1335705701423964160   \n",
       "3     2020-12-06 22:00:09  1335705614740230146   \n",
       "4     2020-12-06 22:00:03  1335705591793192961   \n",
       "...                   ...                  ...   \n",
       "3888  2020-11-27 19:17:14  1332403125546864648   \n",
       "3889  2020-11-27 19:11:45  1332401746300301316   \n",
       "3890  2020-11-27 19:11:32  1332401688649428992...   \n",
       "\n",
       "                                                                                                                                                                                                                                                                   CommonWords  \n",
       "0  [(one, 340), (acting, 334), (6, 306), (photo, 226), (9, 223), (headshots, 221), (looks, 218), (session, 215), (295, 210), (2hr, 210), (checked, 208), (love, 192), (watch, 179), (great, 178), (new, 173), (film, 172), (show, 151), (get, 149), (check, 142), (time, 142)]  "
      ]
     },
     "execution_count": 60,
     "metadata": {},
     "output_type": "execute_result"
    }
   ],
   "source": [
    "x"
   ]
  },
  {
   "cell_type": "code",
   "execution_count": 53,
   "metadata": {},
   "outputs": [],
   "source": []
  },
  {
   "cell_type": "code",
   "execution_count": null,
   "metadata": {},
   "outputs": [],
   "source": []
  },
  {
   "cell_type": "code",
   "execution_count": 100,
   "metadata": {},
   "outputs": [],
   "source": [
    "df = pd.DataFrame()"
   ]
  },
  {
   "cell_type": "code",
   "execution_count": 101,
   "metadata": {},
   "outputs": [],
   "source": [
    "df['acting'] = word_count('acting_hashtag_5000.csv')"
   ]
  },
  {
   "cell_type": "code",
   "execution_count": 103,
   "metadata": {
    "scrolled": true
   },
   "outputs": [],
   "source": [
    "df['actorslife'] = word_count('actorslife_hashtag_5000.csv')"
   ]
  },
  {
   "cell_type": "code",
   "execution_count": 105,
   "metadata": {
    "scrolled": true
   },
   "outputs": [],
   "source": [
    "df['audition'] = word_count('audition_hashtag_5000.csv')"
   ]
  },
  {
   "cell_type": "code",
   "execution_count": 106,
   "metadata": {
    "scrolled": true
   },
   "outputs": [],
   "source": [
    "df['filmfestival'] = word_count('filmfestival_hashtag_5000.csv')"
   ]
  },
  {
   "cell_type": "code",
   "execution_count": 107,
   "metadata": {},
   "outputs": [],
   "source": [
    "df['karate'] = word_count('karate_hashtag_5000.csv')"
   ]
  },
  {
   "cell_type": "code",
   "execution_count": 108,
   "metadata": {
    "scrolled": false
   },
   "outputs": [],
   "source": [
    "df['martialarts'] = word_count('martialarts_hashtag_5000.csv')"
   ]
  },
  {
   "cell_type": "code",
   "execution_count": 109,
   "metadata": {},
   "outputs": [],
   "source": [
    "df['mma'] = word_count('mma_hashtag_5000.csv')"
   ]
  },
  {
   "cell_type": "code",
   "execution_count": 110,
   "metadata": {},
   "outputs": [],
   "source": [
    "df['monologue'] = word_count('monologue_hashtag_5000.csv')"
   ]
  },
  {
   "cell_type": "code",
   "execution_count": 111,
   "metadata": {},
   "outputs": [],
   "source": [
    "df['selfdefense'] = word_count('selfdefense_hashtag_5000.csv')"
   ]
  },
  {
   "cell_type": "code",
   "execution_count": 112,
   "metadata": {},
   "outputs": [],
   "source": [
    "df['taekwondo'] = word_count('taekwondo_hashtag_5000.csv')"
   ]
  },
  {
   "cell_type": "code",
   "execution_count": 113,
   "metadata": {},
   "outputs": [
    {
     "data": {
      "text/html": [
       "<div>\n",
       "<style scoped>\n",
       "    .dataframe tbody tr th:only-of-type {\n",
       "        vertical-align: middle;\n",
       "    }\n",
       "\n",
       "    .dataframe tbody tr th {\n",
       "        vertical-align: top;\n",
       "    }\n",
       "\n",
       "    .dataframe thead th {\n",
       "        text-align: right;\n",
       "    }\n",
       "</style>\n",
       "<table border=\"1\" class=\"dataframe\">\n",
       "  <thead>\n",
       "    <tr style=\"text-align: right;\">\n",
       "      <th></th>\n",
       "      <th>acting</th>\n",
       "      <th>actorslife</th>\n",
       "      <th>audition</th>\n",
       "      <th>filmfestival</th>\n",
       "      <th>karate</th>\n",
       "      <th>martialarts</th>\n",
       "      <th>mma</th>\n",
       "      <th>monologue</th>\n",
       "      <th>selfdefense</th>\n",
       "      <th>taekwondo</th>\n",
       "    </tr>\n",
       "  </thead>\n",
       "  <tbody>\n",
       "    <tr>\n",
       "      <td>0</td>\n",
       "      <td>(one, 340)</td>\n",
       "      <td>(new, 344)</td>\n",
       "      <td>(casting, 241)</td>\n",
       "      <td>(film, 1458)</td>\n",
       "      <td>(karate, 178)</td>\n",
       "      <td>(young, 1640)</td>\n",
       "      <td>(performance, 2125)</td>\n",
       "      <td>(monologue, 45)</td>\n",
       "      <td>(defense, 235)</td>\n",
       "      <td>(taekwondo, 148)</td>\n",
       "    </tr>\n",
       "    <tr>\n",
       "      <td>1</td>\n",
       "      <td>(acting, 334)</td>\n",
       "      <td>(love, 323)</td>\n",
       "      <td>(call, 232)</td>\n",
       "      <td>(festival, 1158)</td>\n",
       "      <td>(martial, 97)</td>\n",
       "      <td>(600, 979)</td>\n",
       "      <td>(awards, 1969)</td>\n",
       "      <td>(written, 28)</td>\n",
       "      <td>(self, 190)</td>\n",
       "      <td>(2020, 67)</td>\n",
       "    </tr>\n",
       "    <tr>\n",
       "      <td>2</td>\n",
       "      <td>(6, 306)</td>\n",
       "      <td>(film, 268)</td>\n",
       "      <td>(character, 228)</td>\n",
       "      <td>(2020, 613)</td>\n",
       "      <td>(arts, 75)</td>\n",
       "      <td>(tournament, 827)</td>\n",
       "      <td>(2020, 1671)</td>\n",
       "      <td>(new, 27)</td>\n",
       "      <td>(kyle, 91)</td>\n",
       "      <td>(world, 58)</td>\n",
       "    </tr>\n",
       "    <tr>\n",
       "      <td>3</td>\n",
       "      <td>(photo, 226)</td>\n",
       "      <td>(time, 262)</td>\n",
       "      <td>(version, 227)</td>\n",
       "      <td>(short, 515)</td>\n",
       "      <td>(kata, 64)</td>\n",
       "      <td>(n, 797)</td>\n",
       "      <td>(mma, 1590)</td>\n",
       "      <td>(one, 26)</td>\n",
       "      <td>(via, 71)</td>\n",
       "      <td>(online, 58)</td>\n",
       "    </tr>\n",
       "    <tr>\n",
       "      <td>4</td>\n",
       "      <td>(9, 223)</td>\n",
       "      <td>(one, 258)</td>\n",
       "      <td>(text, 226)</td>\n",
       "      <td>(official, 403)</td>\n",
       "      <td>(training, 60)</td>\n",
       "      <td>(long, 796)</td>\n",
       "      <td>(love, 1471)</td>\n",
       "      <td>(play, 19)</td>\n",
       "      <td>(women, 64)</td>\n",
       "      <td>(one, 53)</td>\n",
       "    </tr>\n",
       "    <tr>\n",
       "      <td>5</td>\n",
       "      <td>(headshots, 221)</td>\n",
       "      <td>(working, 247)</td>\n",
       "      <td>(found, 226)</td>\n",
       "      <td>(films, 402)</td>\n",
       "      <td>(best, 58)</td>\n",
       "      <td>(youth, 793)</td>\n",
       "      <td>(melon, 1419)</td>\n",
       "      <td>(performed, 17)</td>\n",
       "      <td>(please, 59)</td>\n",
       "      <td>(level, 51)</td>\n",
       "    </tr>\n",
       "    <tr>\n",
       "      <td>6</td>\n",
       "      <td>(looks, 218)</td>\n",
       "      <td>(photo, 239)</td>\n",
       "      <td>(g, 154)</td>\n",
       "      <td>(december, 368)</td>\n",
       "      <td>(today, 57)</td>\n",
       "      <td>(1, 792)</td>\n",
       "      <td>(music, 1381)</td>\n",
       "      <td>(act, 15)</td>\n",
       "      <td>(carry, 58)</td>\n",
       "      <td>(kick, 50)</td>\n",
       "    </tr>\n",
       "    <tr>\n",
       "      <td>7</td>\n",
       "      <td>(session, 215)</td>\n",
       "      <td>(day, 229)</td>\n",
       "      <td>(z, 73)</td>\n",
       "      <td>(international, 363)</td>\n",
       "      <td>(like, 57)</td>\n",
       "      <td>(3, 746)</td>\n",
       "      <td>(best, 1282)</td>\n",
       "      <td>(monologues, 15)</td>\n",
       "      <td>(rittenhouse, 44)</td>\n",
       "      <td>(championships, 50)</td>\n",
       "    </tr>\n",
       "    <tr>\n",
       "      <td>8</td>\n",
       "      <td>(295, 210)</td>\n",
       "      <td>(today, 223)</td>\n",
       "      <td>(audition, 36)</td>\n",
       "      <td>(selection, 316)</td>\n",
       "      <td>(new, 49)</td>\n",
       "      <td>(championship, 742)</td>\n",
       "      <td>(201205, 1228)</td>\n",
       "      <td>(part, 14)</td>\n",
       "      <td>(beginners, 43)</td>\n",
       "      <td>(poomsae, 49)</td>\n",
       "    </tr>\n",
       "    <tr>\n",
       "      <td>9</td>\n",
       "      <td>(2hr, 210)</td>\n",
       "      <td>(get, 222)</td>\n",
       "      <td>(actors, 31)</td>\n",
       "      <td>(get, 268)</td>\n",
       "      <td>(team, 49)</td>\n",
       "      <td>(old, 716)</td>\n",
       "      <td>(stage, 1109)</td>\n",
       "      <td>(films, 14)</td>\n",
       "      <td>(keep, 40)</td>\n",
       "      <td>(preliminary, 48)</td>\n",
       "    </tr>\n",
       "    <tr>\n",
       "      <td>10</td>\n",
       "      <td>(checked, 208)</td>\n",
       "      <td>(6, 218)</td>\n",
       "      <td>(work, 30)</td>\n",
       "      <td>(best, 262)</td>\n",
       "      <td>(belt, 47)</td>\n",
       "      <td>(skills, 713)</td>\n",
       "      <td>(back, 634)</td>\n",
       "      <td>(lgbtq, 14)</td>\n",
       "      <td>(right, 40)</td>\n",
       "      <td>(fight, 46)</td>\n",
       "    </tr>\n",
       "    <tr>\n",
       "      <td>11</td>\n",
       "      <td>(love, 192)</td>\n",
       "      <td>(headshots, 212)</td>\n",
       "      <td>(great, 25)</td>\n",
       "      <td>(online, 262)</td>\n",
       "      <td>(get, 46)</td>\n",
       "      <td>(season, 694)</td>\n",
       "      <td>(x, 606)</td>\n",
       "      <td>(last, 14)</td>\n",
       "      <td>(new, 40)</td>\n",
       "      <td>(via, 44)</td>\n",
       "    </tr>\n",
       "    <tr>\n",
       "      <td>12</td>\n",
       "      <td>(watch, 179)</td>\n",
       "      <td>(acting, 211)</td>\n",
       "      <td>(auditions, 25)</td>\n",
       "      <td>(via, 256)</td>\n",
       "      <td>(time, 46)</td>\n",
       "      <td>(seven, 692)</td>\n",
       "      <td>(monsta, 600)</td>\n",
       "      <td>(video, 13)</td>\n",
       "      <td>(review, 39)</td>\n",
       "      <td>(intermediate, 41)</td>\n",
       "    </tr>\n",
       "    <tr>\n",
       "      <td>13</td>\n",
       "      <td>(great, 178)</td>\n",
       "      <td>(checked, 211)</td>\n",
       "      <td>(new, 23)</td>\n",
       "      <td>(submit, 245)</td>\n",
       "      <td>(29, 43)</td>\n",
       "      <td>(showcased, 691)</td>\n",
       "      <td>(better, 591)</td>\n",
       "      <td>(via, 12)</td>\n",
       "      <td>(training, 39)</td>\n",
       "      <td>(knockouts, 41)</td>\n",
       "    </tr>\n",
       "    <tr>\n",
       "      <td>14</td>\n",
       "      <td>(new, 173)</td>\n",
       "      <td>(actor, 201)</td>\n",
       "      <td>(get, 23)</td>\n",
       "      <td>(check, 240)</td>\n",
       "      <td>(99c, 42)</td>\n",
       "      <td>(prodigious, 691)</td>\n",
       "      <td>(hello, 582)</td>\n",
       "      <td>(want, 11)</td>\n",
       "      <td>(gun, 38)</td>\n",
       "      <td>(meneng, 41)</td>\n",
       "    </tr>\n",
       "    <tr>\n",
       "      <td>15</td>\n",
       "      <td>(film, 172)</td>\n",
       "      <td>(session, 199)</td>\n",
       "      <td>(acting, 19)</td>\n",
       "      <td>(watch, 230)</td>\n",
       "      <td>(nov, 42)</td>\n",
       "      <td>(boys, 691)</td>\n",
       "      <td>(pay, 576)</td>\n",
       "      <td>(thank, 11)</td>\n",
       "      <td>(concealed, 37)</td>\n",
       "      <td>(spinning, 40)</td>\n",
       "    </tr>\n",
       "    <tr>\n",
       "      <td>16</td>\n",
       "      <td>(show, 151)</td>\n",
       "      <td>(looks, 199)</td>\n",
       "      <td>(self, 19)</td>\n",
       "      <td>(another, 200)</td>\n",
       "      <td>(26, 42)</td>\n",
       "      <td>(girls, 691)</td>\n",
       "      <td>(perfect, 509)</td>\n",
       "      <td>(life, 11)</td>\n",
       "      <td>(video, 37)</td>\n",
       "      <td>(minute, 39)</td>\n",
       "    </tr>\n",
       "    <tr>\n",
       "      <td>17</td>\n",
       "      <td>(get, 149)</td>\n",
       "      <td>(9, 194)</td>\n",
       "      <td>(got, 19)</td>\n",
       "      <td>(head, 187)</td>\n",
       "      <td>(next, 41)</td>\n",
       "      <td>(prestigious, 685)</td>\n",
       "      <td>(officially, 502)</td>\n",
       "      <td>(joseph, 11)</td>\n",
       "      <td>(learn, 37)</td>\n",
       "      <td>(group, 35)</td>\n",
       "    </tr>\n",
       "    <tr>\n",
       "      <td>18</td>\n",
       "      <td>(check, 142)</td>\n",
       "      <td>(work, 190)</td>\n",
       "      <td>(want, 18)</td>\n",
       "      <td>(miss, 186)</td>\n",
       "      <td>(us, 41)</td>\n",
       "      <td>(north, 685)</td>\n",
       "      <td>(completed, 498)</td>\n",
       "      <td>(arnone, 11)</td>\n",
       "      <td>(need, 35)</td>\n",
       "      <td>(self, 33)</td>\n",
       "    </tr>\n",
       "    <tr>\n",
       "      <td>19</td>\n",
       "      <td>(time, 142)</td>\n",
       "      <td>(great, 188)</td>\n",
       "      <td>(better, 18)</td>\n",
       "      <td>(17th, 181)</td>\n",
       "      <td>(video, 40)</td>\n",
       "      <td>(chinar, 683)</td>\n",
       "      <td>(award, 475)</td>\n",
       "      <td>(day, 11)</td>\n",
       "      <td>(home, 34)</td>\n",
       "      <td>(lndividual, 33)</td>\n",
       "    </tr>\n",
       "  </tbody>\n",
       "</table>\n",
       "</div>"
      ],
      "text/plain": [
       "              acting        actorslife          audition  \\\n",
       "0         (one, 340)        (new, 344)    (casting, 241)   \n",
       "1      (acting, 334)       (love, 323)       (call, 232)   \n",
       "2           (6, 306)       (film, 268)  (character, 228)   \n",
       "3       (photo, 226)       (time, 262)    (version, 227)   \n",
       "4           (9, 223)        (one, 258)       (text, 226)   \n",
       "5   (headshots, 221)    (working, 247)      (found, 226)   \n",
       "6       (looks, 218)      (photo, 239)          (g, 154)   \n",
       "7     (session, 215)        (day, 229)           (z, 73)   \n",
       "8         (295, 210)      (today, 223)    (audition, 36)   \n",
       "9         (2hr, 210)        (get, 222)      (actors, 31)   \n",
       "10    (checked, 208)          (6, 218)        (work, 30)   \n",
       "11       (love, 192)  (headshots, 212)       (great, 25)   \n",
       "12      (watch, 179)     (acting, 211)   (auditions, 25)   \n",
       "13      (great, 178)    (checked, 211)         (new, 23)   \n",
       "14        (new, 173)      (actor, 201)         (get, 23)   \n",
       "15       (film, 172)    (session, 199)      (acting, 19)   \n",
       "16       (show, 151)      (looks, 199)        (self, 19)   \n",
       "17        (get, 149)          (9, 194)         (got, 19)   \n",
       "18      (check, 142)       (work, 190)        (want, 18)   \n",
       "19       (time, 142)      (great, 188)      (better, 18)   \n",
       "\n",
       "            filmfestival          karate          martialarts  \\\n",
       "0           (film, 1458)   (karate, 178)        (young, 1640)   \n",
       "1       (festival, 1158)   (martial, 97)           (600, 979)   \n",
       "2            (2020, 613)      (arts, 75)    (tournament, 827)   \n",
       "3           (short, 515)      (kata, 64)             (n, 797)   \n",
       "4        (official, 403)  (training, 60)          (long, 796)   \n",
       "5           (films, 402)      (best, 58)         (youth, 793)   \n",
       "6        (december, 368)     (today, 57)             (1, 792)   \n",
       "7   (international, 363)      (like, 57)             (3, 746)   \n",
       "8       (selection, 316)       (new, 49)  (championship, 742)   \n",
       "9             (get, 268)      (team, 49)           (old, 716)   \n",
       "10           (best, 262)      (belt, 47)        (skills, 713)   \n",
       "11         (online, 262)       (get, 46)        (season, 694)   \n",
       "12            (via, 256)      (time, 46)         (seven, 692)   \n",
       "13         (submit, 245)        (29, 43)     (showcased, 691)   \n",
       "14          (check, 240)       (99c, 42)    (prodigious, 691)   \n",
       "15          (watch, 230)       (nov, 42)          (boys, 691)   \n",
       "16        (another, 200)        (26, 42)         (girls, 691)   \n",
       "17           (head, 187)      (next, 41)   (prestigious, 685)   \n",
       "18           (miss, 186)        (us, 41)         (north, 685)   \n",
       "19           (17th, 181)     (video, 40)        (chinar, 683)   \n",
       "\n",
       "                    mma         monologue        selfdefense  \\\n",
       "0   (performance, 2125)   (monologue, 45)     (defense, 235)   \n",
       "1        (awards, 1969)     (written, 28)        (self, 190)   \n",
       "2          (2020, 1671)         (new, 27)         (kyle, 91)   \n",
       "3           (mma, 1590)         (one, 26)          (via, 71)   \n",
       "4          (love, 1471)        (play, 19)        (women, 64)   \n",
       "5         (melon, 1419)   (performed, 17)       (please, 59)   \n",
       "6         (music, 1381)         (act, 15)        (carry, 58)   \n",
       "7          (best, 1282)  (monologues, 15)  (rittenhouse, 44)   \n",
       "8        (201205, 1228)        (part, 14)    (beginners, 43)   \n",
       "9         (stage, 1109)       (films, 14)         (keep, 40)   \n",
       "10          (back, 634)       (lgbtq, 14)        (right, 40)   \n",
       "11             (x, 606)        (last, 14)          (new, 40)   \n",
       "12        (monsta, 600)       (video, 13)       (review, 39)   \n",
       "13        (better, 591)         (via, 12)     (training, 39)   \n",
       "14         (hello, 582)        (want, 11)          (gun, 38)   \n",
       "15           (pay, 576)       (thank, 11)    (concealed, 37)   \n",
       "16       (perfect, 509)        (life, 11)        (video, 37)   \n",
       "17    (officially, 502)      (joseph, 11)        (learn, 37)   \n",
       "18     (completed, 498)      (arnone, 11)         (need, 35)   \n",
       "19         (award, 475)         (day, 11)         (home, 34)   \n",
       "\n",
       "              taekwondo  \n",
       "0      (taekwondo, 148)  \n",
       "1            (2020, 67)  \n",
       "2           (world, 58)  \n",
       "3          (online, 58)  \n",
       "4             (one, 53)  \n",
       "5           (level, 51)  \n",
       "6            (kick, 50)  \n",
       "7   (championships, 50)  \n",
       "8         (poomsae, 49)  \n",
       "9     (preliminary, 48)  \n",
       "10          (fight, 46)  \n",
       "11            (via, 44)  \n",
       "12   (intermediate, 41)  \n",
       "13      (knockouts, 41)  \n",
       "14         (meneng, 41)  \n",
       "15       (spinning, 40)  \n",
       "16         (minute, 39)  \n",
       "17          (group, 35)  \n",
       "18           (self, 33)  \n",
       "19     (lndividual, 33)  "
      ]
     },
     "execution_count": 113,
     "metadata": {},
     "output_type": "execute_result"
    }
   ],
   "source": [
    "df"
   ]
  },
  {
   "cell_type": "code",
   "execution_count": null,
   "metadata": {},
   "outputs": [],
   "source": []
  },
  {
   "cell_type": "code",
   "execution_count": 64,
   "metadata": {},
   "outputs": [],
   "source": [
    "acting = pd.read_csv('acting_hashtag_5000.csv')"
   ]
  },
  {
   "cell_type": "code",
   "execution_count": 65,
   "metadata": {
    "scrolled": true
   },
   "outputs": [],
   "source": [
    "# create a Hashtags column that contains a list of all the hashtags used in the respective tweet\n",
    "acting['Hashtags'] = acting['Text'].apply(getHashtags)"
   ]
  },
  {
   "cell_type": "code",
   "execution_count": 66,
   "metadata": {},
   "outputs": [],
   "source": [
    "text_clean = acting['Text'].apply(word_count_text_processor)"
   ]
  },
  {
   "cell_type": "code",
   "execution_count": 68,
   "metadata": {},
   "outputs": [],
   "source": [
    "all_text = []\n",
    "for words in text_clean:\n",
    "    all_text += words"
   ]
  },
  {
   "cell_type": "code",
   "execution_count": 31,
   "metadata": {},
   "outputs": [],
   "source": [
    "c = Counter(all_text) "
   ]
  },
  {
   "cell_type": "code",
   "execution_count": 77,
   "metadata": {},
   "outputs": [
    {
     "data": {
      "text/plain": [
       "[('one', 340),\n",
       " ('acting', 334),\n",
       " ('6', 306),\n",
       " ('photo', 226),\n",
       " ('9', 223),\n",
       " ('headshots', 221),\n",
       " ('looks', 218),\n",
       " ('session', 215),\n",
       " ('295', 210),\n",
       " ('2hr', 210),\n",
       " ('checked', 208),\n",
       " ('love', 192),\n",
       " ('watch', 179),\n",
       " ('great', 178),\n",
       " ('new', 173),\n",
       " ('film', 172),\n",
       " ('show', 151),\n",
       " ('get', 149),\n",
       " ('check', 142),\n",
       " ('time', 142)]"
      ]
     },
     "execution_count": 77,
     "metadata": {},
     "output_type": "execute_result"
    }
   ],
   "source": [
    "c.most_common(20)"
   ]
  },
  {
   "cell_type": "code",
   "execution_count": null,
   "metadata": {},
   "outputs": [],
   "source": []
  },
  {
   "cell_type": "code",
   "execution_count": null,
   "metadata": {},
   "outputs": [],
   "source": []
  },
  {
   "cell_type": "code",
   "execution_count": null,
   "metadata": {},
   "outputs": [],
   "source": []
  },
  {
   "cell_type": "markdown",
   "metadata": {},
   "source": [
    "# KMeans"
   ]
  },
  {
   "cell_type": "code",
   "execution_count": 145,
   "metadata": {},
   "outputs": [],
   "source": [
    "def tfidf_text_processor(x):\n",
    "    x = x.lower()\n",
    "    x = removeSubstring(['http://', 'https://', '#', '@'], x)\n",
    "    x = re.split(' |,|;|&|!|\\?|/|\\.', x)\n",
    "    tokens = [tok for tok in x if tok.isalnum()]\n",
    "    tokens = [tok for tok in x if tok not in sw]\n",
    "    return ' '.join(tokens)"
   ]
  },
  {
   "cell_type": "code",
   "execution_count": 188,
   "metadata": {},
   "outputs": [],
   "source": [
    "def plot_wcss(text):\n",
    "    tf = TfidfVectorizer()\n",
    "    X = tf.fit_transform(text)\n",
    "    wcss = []\n",
    "    for k in range(5,51,5):\n",
    "        kmeans = KMeans(n_clusters=k)\n",
    "        kmeans.fit(X)\n",
    "        wcss.append(kmeans.inertia_)\n",
    "    plt.plot(np.arange(5,51,5),wcss,marker=\"o\")\n",
    "    plt.xlabel('Number of Clusters, K')\n",
    "    plt.ylabel('WCSS')"
   ]
  },
  {
   "cell_type": "code",
   "execution_count": 225,
   "metadata": {},
   "outputs": [],
   "source": [
    "def fit_kmeans(k):\n",
    "    kmeans = MiniBatchKMeans(k)\n",
    "    kmeans.fit(X)\n",
    "    labs = kmeans.predict(X)\n",
    "    order_centroids = kmeans.cluster_centers_.argsort()[:, ::-1]\n",
    "    terms = tf.get_feature_names()\n",
    "    for i in range(k):\n",
    "        print(\"Cluster %d:\" % i, end='')\n",
    "        for ind in order_centroids[i, :10]:\n",
    "            print(' %s' % terms[ind], end='')\n",
    "        print()"
   ]
  },
  {
   "cell_type": "code",
   "execution_count": null,
   "metadata": {},
   "outputs": [],
   "source": []
  },
  {
   "cell_type": "markdown",
   "metadata": {},
   "source": [
    "hashtags to use: \n",
    "- acting\n",
    "- actors life\n",
    "- martial arts\n",
    "- mma\n",
    "- self defense\n",
    "- film festival\n",
    "- cobra kai"
   ]
  },
  {
   "cell_type": "markdown",
   "metadata": {},
   "source": [
    "# #acting"
   ]
  },
  {
   "cell_type": "code",
   "execution_count": 190,
   "metadata": {},
   "outputs": [],
   "source": [
    "acting = pd.read_csv('acting_hashtag_5000.csv')"
   ]
  },
  {
   "cell_type": "code",
   "execution_count": 191,
   "metadata": {
    "scrolled": false
   },
   "outputs": [],
   "source": [
    "clean_text = acting['Text'].apply(tfidf_text_processor)"
   ]
  },
  {
   "cell_type": "code",
   "execution_count": 195,
   "metadata": {},
   "outputs": [
    {
     "data": {
      "image/png": "[encoded data removed]",
      "text/plain": [
       "<Figure size 432x288 with 1 Axes>"
      ]
     },
     "metadata": {
      "needs_background": "light"
     },
     "output_type": "display_data"
    }
   ],
   "source": [
    "plot_wcss(clean_text)"
   ]
  },
  {
   "cell_type": "code",
   "execution_count": 196,
   "metadata": {
    "scrolled": true
   },
   "outputs": [
    {
     "name": "stdout",
     "output_type": "stream",
     "text": [
      "Cluster 0: casting luck good commercial exchange today gabbidon pratt isabelle courtney\n",
      "Cluster 1: borda contagious albert einstein creativity pass morning mrt good checking\n",
      "Cluster 2: checked page website imdb channel music play 𝘄𝗲 fabulous face\n",
      "Cluster 3: becoz mom become fan show watch room process tell leave\n",
      "Cluster 4: marcus dyed thoughts becomes colour soul think teachers reflection struggle\n",
      "Cluster 5: 295 2hr session looks headshots photo 20th lovelies photoshooting improvised\n",
      "Cluster 6: check link contact bio info please likes following leave buddies\n",
      "Cluster 7: denver koch phil yesterday john dreams tomorrow one proper setup\n",
      "Cluster 8: via viewing youtube little available love failures faces facing fact\n",
      "Cluster 9: thank much line loved amazing work comedy completed way martial\n",
      "Cluster 10: allan poe strangeness timothy edgar beauty without martin get fact\n",
      "Cluster 11: career africa acting training best build ig improve purpose way\n",
      "Cluster 12: one solitary transform realities totally million lucky maya fantasy great\n",
      "Cluster 13: acting december want great film get craft master he world\n",
      "Cluster 14: 70 pages issues perfect better got new available copies signed\n",
      "Cluster 15: unlimited clothing thespian heart believe female seat fill camus heights\n",
      "Cluster 16: ah prep business chance breaking 𝘄𝗲 failure faces facing fact\n",
      "Cluster 17: aquasixio amis alone interesting happen the things martin prayer reviews\n",
      "Cluster 18: happy birthday harris midler talent bette julie ed especially once\n",
      "Cluster 19: love bridge rob everything calling info go live acting planned\n"
     ]
    }
   ],
   "source": [
    "fit_kmeans(20)"
   ]
  },
  {
   "cell_type": "markdown",
   "metadata": {},
   "source": [
    "# #actorslife"
   ]
  },
  {
   "cell_type": "code",
   "execution_count": 198,
   "metadata": {},
   "outputs": [],
   "source": [
    "actorslife = pd.read_csv('actorslife_hashtag_5000.csv')"
   ]
  },
  {
   "cell_type": "code",
   "execution_count": 199,
   "metadata": {},
   "outputs": [],
   "source": [
    "clean_text = actorslife['Text'].apply(tfidf_text_processor)"
   ]
  },
  {
   "cell_type": "code",
   "execution_count": 201,
   "metadata": {},
   "outputs": [
    {
     "data": {
      "image/png": "[encoded data removed]",
      "text/plain": [
       "<Figure size 432x288 with 1 Axes>"
      ]
     },
     "metadata": {
      "needs_background": "light"
     },
     "output_type": "display_data"
    }
   ],
   "source": [
    "plot_wcss(clean_text)"
   ]
  },
  {
   "cell_type": "code",
   "execution_count": 203,
   "metadata": {},
   "outputs": [
    {
     "name": "stdout",
     "output_type": "stream",
     "text": [
      "Cluster 0: birthday happy today performance harris exchange ed premiere casting loveland\n",
      "Cluster 1: december craft film master proves the he martin things great\n",
      "Cluster 2: go live calling info love ig purpose night 6pm past\n",
      "Cluster 3: 295 2hr session photo looks headshots deserves emmy photoshooting summer\n",
      "Cluster 4: thespian unlimited clothing heart believe seat fact fabulous face facebook\n",
      "Cluster 5: check actor day inspires enjoy click videos re podcast we\n",
      "Cluster 6: checked page imdb website channel music play sixth form fb\n",
      "Cluster 7: dyed marcus soul colour becomes thoughts teachers stella adler reminds\n",
      "Cluster 8: show mom becoz become fan watch realization looking producers tv\n",
      "Cluster 9: actors shawn fbf lee support shot open books agency keep\n",
      "Cluster 10: borda contagious albert einstein creativity pass 𝘄𝗲 facing fact facts\n",
      "Cluster 11: one koch denver phil john yesterday dreams tomorrow transform solitary\n",
      "Cluster 12: time love bridge rob everything work line video training course\n",
      "Cluster 13: acting connected workshop can hons improve winter ba break count\n",
      "Cluster 14: new 70 pages issues perfect better got available short internet\n"
     ]
    }
   ],
   "source": [
    "fit_kmeans(15)"
   ]
  },
  {
   "cell_type": "code",
   "execution_count": null,
   "metadata": {},
   "outputs": [],
   "source": []
  },
  {
   "cell_type": "markdown",
   "metadata": {},
   "source": [
    "# #martialarts"
   ]
  },
  {
   "cell_type": "code",
   "execution_count": 205,
   "metadata": {},
   "outputs": [],
   "source": [
    "martialarts = pd.read_csv('martialarts_hashtag_5000.csv')"
   ]
  },
  {
   "cell_type": "code",
   "execution_count": 206,
   "metadata": {},
   "outputs": [],
   "source": [
    "clean_text = martialarts['Text'].apply(tfidf_text_processor)"
   ]
  },
  {
   "cell_type": "code",
   "execution_count": 207,
   "metadata": {},
   "outputs": [
    {
     "data": {
      "image/png": "[encoded data removed]",
      "text/plain": [
       "<Figure size 432x288 with 1 Axes>"
      ]
     },
     "metadata": {
      "needs_background": "light"
     },
     "output_type": "display_data"
    }
   ],
   "source": [
    "plot_wcss(clean_text)"
   ]
  },
  {
   "cell_type": "code",
   "execution_count": 209,
   "metadata": {},
   "outputs": [
    {
     "name": "stdout",
     "output_type": "stream",
     "text": [
      "Cluster 0: nice happy received director comes lead naturally awards really embody\n",
      "Cluster 1: checked page website imdb channel music play sept changes rwcmd\n",
      "Cluster 2: martin amis aquasixio alone happen interesting things the edgar poe\n",
      "Cluster 3: one denver koch phil john yesterday dreams transform solitary realities\n",
      "Cluster 4: becoz mom become fan show watch whenever thing able create\n",
      "Cluster 5: 295 2hr session looks headshots photo merman casual vibes modeling\n",
      "Cluster 6: work like great time look place video one fanpage film\n",
      "Cluster 7: acting love december check new everything pass master he einstein\n",
      "Cluster 8: good casting luck commercial kkjha sisya bollywood duet now morning\n",
      "Cluster 9: marcus dyed colour becomes thoughts soul aurelius ninagawa mika teachers\n"
     ]
    }
   ],
   "source": [
    "fit_kmeans(10)"
   ]
  },
  {
   "cell_type": "markdown",
   "metadata": {},
   "source": [
    "# #mma"
   ]
  },
  {
   "cell_type": "code",
   "execution_count": 210,
   "metadata": {},
   "outputs": [],
   "source": [
    "mma = pd.read_csv('mma_hashtag_5000.csv')"
   ]
  },
  {
   "cell_type": "code",
   "execution_count": 211,
   "metadata": {},
   "outputs": [],
   "source": [
    "clean_text = mma['Text'].apply(tfidf_text_processor)"
   ]
  },
  {
   "cell_type": "code",
   "execution_count": 212,
   "metadata": {},
   "outputs": [
    {
     "data": {
      "image/png": "[encoded data removed]",
      "text/plain": [
       "<Figure size 432x288 with 1 Axes>"
      ]
     },
     "metadata": {
      "needs_background": "light"
     },
     "output_type": "display_data"
    }
   ],
   "source": [
    "plot_wcss(clean_text)"
   ]
  },
  {
   "cell_type": "code",
   "execution_count": 222,
   "metadata": {},
   "outputs": [
    {
     "name": "stdout",
     "output_type": "stream",
     "text": [
      "Cluster 0: soul thoughts becomes colour dyed marcus acting great new film\n",
      "Cluster 1: page checked imdb 𝘄𝗲 fail facebook faces facing fact facts\n",
      "Cluster 2: pass contagious borda albert einstein creativity annual raffle win masterclass\n",
      "Cluster 3: casting luck commercial good baynard chizuko smith rachel hill exchange\n",
      "Cluster 4: series web interested episode role starts cancelled actress darren criss\n",
      "Cluster 5: fanpage place weird get like one film year today 50\n",
      "Cluster 6: becoz mom become show fan watch room process tell leave\n",
      "Cluster 7: 295 2hr session looks headshots photo us join dialect dracula\n",
      "Cluster 8: everything bridge rob love comes planned success voiceovers goes spoken\n",
      "Cluster 9: one yesterday koch denver phil john dreams tomorrow realities transform\n",
      "Cluster 10: think acting good morning career time reflection success struggle barr\n",
      "Cluster 11: martin strangeness allan poe timothy edgar beauty interesting aquasixio amis\n",
      "Cluster 12: actors cartoon spotlight non get make let actor moved aware\n",
      "Cluster 13: tape pants older sometimes self watching loved keep ba students\n",
      "Cluster 14: master december he proves craft welcome reopening update 2020 recent\n",
      "Cluster 15: ig purpose 6pm past talking future present let career live\n",
      "Cluster 16: info calling go live love acting check likes following leave\n",
      "Cluster 17: checked website channel play 𝘄𝗲 fabulous face facebook faces facing\n",
      "Cluster 18: scenes super creating studio working great excited natter cuppa leisurely\n",
      "Cluster 19: share everyone enjoy soon delighted hope grapend made happy christmas\n"
     ]
    }
   ],
   "source": [
    "fit_kmeans(20)"
   ]
  },
  {
   "cell_type": "markdown",
   "metadata": {},
   "source": [
    "# #selfdefense"
   ]
  },
  {
   "cell_type": "code",
   "execution_count": 213,
   "metadata": {},
   "outputs": [],
   "source": [
    "selfdefense = pd.read_csv('selfdefense_hashtag_5000.csv')"
   ]
  },
  {
   "cell_type": "code",
   "execution_count": 214,
   "metadata": {},
   "outputs": [],
   "source": [
    "clean_text = selfdefense['Text'].apply(tfidf_text_processor)"
   ]
  },
  {
   "cell_type": "code",
   "execution_count": 215,
   "metadata": {},
   "outputs": [
    {
     "data": {
      "image/png": "[encoded data removed]",
      "text/plain": [
       "<Figure size 432x288 with 1 Axes>"
      ]
     },
     "metadata": {
      "needs_background": "light"
     },
     "output_type": "display_data"
    }
   ],
   "source": [
    "plot_wcss(clean_text)"
   ]
  },
  {
   "cell_type": "code",
   "execution_count": 223,
   "metadata": {},
   "outputs": [
    {
     "name": "stdout",
     "output_type": "stream",
     "text": [
      "Cluster 0: acting great good want work check actor film new one\n",
      "Cluster 1: one transform solitary realities totally million lucky maya fantasy iconic\n",
      "Cluster 2: 295 2hr session looks headshots photo faculty face facebook faces\n",
      "Cluster 3: mom becoz become fan show watch rehearsal feels school old\n",
      "Cluster 4: cookout actresses coed college cookbook cooking girls smart auditioning guys\n",
      "Cluster 5: farrow mia 𝘄𝗲 fail facebook faces facing fact facts faculty\n",
      "Cluster 6: page checked imdb 𝘄𝗲 fail facebook faces facing fact facts\n",
      "Cluster 7: denver koch phil john yesterday dreams tomorrow one deptartment undergraduate\n",
      "Cluster 8: weird fanpage place like get one thanks woo please great\n",
      "Cluster 9: learn together home auditions crown workshops thomas dialogue conducts delivery\n",
      "Cluster 10: allan timothy strangeness poe edgar beauty without martin faces facing\n",
      "Cluster 11: bridge rob everything love absolutely new headshots kidnapped aliens smoking\n",
      "Cluster 12: unlimited clothing thespian heart believe seat female fill camus heights\n",
      "Cluster 13: he proves master craft december trudeau pmo embarrassment thinks imaginary\n",
      "Cluster 14: website checked music 𝘄𝗲 face facebook faces facing fact facts\n",
      "Cluster 15: amis aquasixio alone happen interesting things the martin hopefully change\n",
      "Cluster 16: get fanpage like place unite makers female weird one film\n",
      "Cluster 17: imdb page checked 𝘄𝗲 fail facebook faces facing fact facts\n",
      "Cluster 18: info calling acting go live love contact bio check performance\n",
      "Cluster 19: marcus dyed colour becomes thoughts soul aurelius mika ninagawa teachers\n",
      "Cluster 20: birthday happy film born especially actor ladd november gloria grahame\n",
      "Cluster 21: course acting designed today hons winter ba break either choose\n",
      "Cluster 22: 70 pages better issues perfect got new available copies signed\n",
      "Cluster 23: life real moment ig sunday purpose 6pm past talking present\n",
      "Cluster 24: series companion adaptations promoting empress scarlet eighth audio jones charity\n",
      "Cluster 25: imdb page checked teens monologues tweens kids scenes minute ii\n",
      "Cluster 26: fate memorable dark powerful latest scenes support want great awesome\n",
      "Cluster 27: permanent patience nerve big don look make fan fake fal\n",
      "Cluster 28: contagious borda albert einstein creativity pass mrt 𝘄𝗲 fail facing\n",
      "Cluster 29: allan timothy strangeness poe edgar beauty without martin faces facing\n"
     ]
    }
   ],
   "source": [
    "fit_kmeans(30)"
   ]
  },
  {
   "cell_type": "markdown",
   "metadata": {},
   "source": [
    "# #filmfestival"
   ]
  },
  {
   "cell_type": "code",
   "execution_count": 216,
   "metadata": {},
   "outputs": [],
   "source": [
    "filmfestival = pd.read_csv('filmfestival_hashtag_5000.csv')"
   ]
  },
  {
   "cell_type": "code",
   "execution_count": 217,
   "metadata": {},
   "outputs": [],
   "source": [
    "clean_text = filmfestival['Text'].apply(tfidf_text_processor)"
   ]
  },
  {
   "cell_type": "code",
   "execution_count": 218,
   "metadata": {},
   "outputs": [
    {
     "data": {
      "image/png": "[encoded data removed]",
      "text/plain": [
       "<Figure size 432x288 with 1 Axes>"
      ]
     },
     "metadata": {
      "needs_background": "light"
     },
     "output_type": "display_data"
    }
   ],
   "source": [
    "plot_wcss(clean_text)"
   ]
  },
  {
   "cell_type": "code",
   "execution_count": 224,
   "metadata": {},
   "outputs": [
    {
     "name": "stdout",
     "output_type": "stream",
     "text": [
      "Cluster 0: one acting martin things the yesterday happen alone interesting new\n",
      "Cluster 1: contagious borda albert einstein creativity pass mrt 𝘄𝗲 fail facing\n",
      "Cluster 2: dyed marcus becomes colour thoughts soul teachers variety preeminent showed\n",
      "Cluster 3: love bridge rob everything calling info live go acting joy\n",
      "Cluster 4: get time find year including work working creative it hard\n",
      "Cluster 5: becoz mom become show fan watch released summer gt victoriously\n",
      "Cluster 6: share soon like excited exciting breaking video enjoy click check\n",
      "Cluster 7: checked page imdb website channel music sixth form equivalent vocational\n",
      "Cluster 8: 295 2hr headshots session looks photo heashots prettiest encapsulate handsome\n",
      "Cluster 9: see wait can anyone students young enterococcus silence intermediate know\n"
     ]
    }
   ],
   "source": [
    "fit_kmeans(10)"
   ]
  },
  {
   "cell_type": "markdown",
   "metadata": {},
   "source": [
    "# #cobrakai"
   ]
  },
  {
   "cell_type": "code",
   "execution_count": 219,
   "metadata": {},
   "outputs": [],
   "source": [
    "cobrakai = pd.read_csv('cobrakai_hashtag_5000.csv')"
   ]
  },
  {
   "cell_type": "code",
   "execution_count": 220,
   "metadata": {},
   "outputs": [],
   "source": [
    "clean_text = cobrakai['Text'].apply(tfidf_text_processor)"
   ]
  },
  {
   "cell_type": "code",
   "execution_count": 221,
   "metadata": {},
   "outputs": [
    {
     "data": {
      "image/png": "[encoded data removed]",
      "text/plain": [
       "<Figure size 432x288 with 1 Axes>"
      ]
     },
     "metadata": {
      "needs_background": "light"
     },
     "output_type": "display_data"
    }
   ],
   "source": [
    "plot_wcss(clean_text)"
   ]
  },
  {
   "cell_type": "code",
   "execution_count": 226,
   "metadata": {},
   "outputs": [
    {
     "name": "stdout",
     "output_type": "stream",
     "text": [
      "Cluster 0: show watch fan become mom becoz acting december check actor\n",
      "Cluster 1: love bridge rob everything calling info live go acting bodyguard\n",
      "Cluster 2: dyed marcus becomes colour thoughts soul aurelius mika ninagawa reel\n",
      "Cluster 3: great good unlimited work believe casting thespian clothing heart actors\n",
      "Cluster 4: 295 2hr session headshots looks photo updated amazing thank work\n",
      "Cluster 5: contagious borda albert einstein creativity pass mrt 𝘄𝗲 fail facing\n",
      "Cluster 6: checked page website imdb channel music play 𝘄𝗲 fabulous face\n",
      "Cluster 7: contact bio info ig purpose 6pm let past present talking\n",
      "Cluster 8: martin amis aquasixio alone interesting happen things the edgar timothy\n",
      "Cluster 9: one koch denver phil john yesterday dreams tomorrow transform solitary\n"
     ]
    }
   ],
   "source": [
    "fit_kmeans(10)"
   ]
  },
  {
   "cell_type": "code",
   "execution_count": null,
   "metadata": {},
   "outputs": [],
   "source": []
  }
 ],
 "metadata": {
  "kernelspec": {
   "display_name": "Python 3",
   "language": "python",
   "name": "python3"
  },
  "language_info": {
   "codemirror_mode": {
    "name": "ipython",
    "version": 3
   },
   "file_extension": ".py",
   "mimetype": "text/x-python",
   "name": "python",
   "nbconvert_exporter": "python",
   "pygments_lexer": "ipython3",
   "version": "3.7.4"
  }
 },
 "nbformat": 4,
 "nbformat_minor": 2
}
